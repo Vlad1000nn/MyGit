{
 "cells": [
  {
   "cell_type": "markdown",
   "metadata": {},
   "source": [
    "# Задание 1\n",
    "\n",
    "Представьте собственные данные и постройте эктраполяцию полиномами\n",
    "первой, второй и третьей степени."
   ]
  },
  {
   "cell_type": "code",
   "execution_count": 2,
   "metadata": {},
   "outputs": [
    {
     "ename": "SyntaxError",
     "evalue": "incomplete input (3495307123.py, line 51)",
     "output_type": "error",
     "traceback": [
      "\u001b[1;36m  Cell \u001b[1;32mIn[2], line 51\u001b[1;36m\u001b[0m\n\u001b[1;33m    plt.show(\u001b[0m\n\u001b[1;37m             ^\u001b[0m\n\u001b[1;31mSyntaxError\u001b[0m\u001b[1;31m:\u001b[0m incomplete input\n"
     ]
    }
   ],
   "source": [
    "import numpy as np\n",
    "import matplotlib.pyplot as plt\n",
    "\n",
    "# 1 Степень полинома\n",
    "\n",
    "x = np.array([0, 1, 2, 3])\n",
    "y = np.array([2.5, -0.35, 0.32, -3.2])\n",
    "\n",
    "# Перепишем лин. ур-е y = kx + b как y = Ap, где A = [[ x 1 ]] и p = [[k], [b]]\n",
    "# Построим A по x:\n",
    "A = np.vstack([x, np.ones(len(x))]).T\n",
    "\n",
    "# Используем метод lstsq для решения его относительно вектора p.\n",
    "k, b = np.linalg.lstsq(A, y, rcond = None)[0]\n",
    "\n",
    "plt.plot(x, y, 'o', label = 'Исходные данные', markersize = 10)\n",
    "plt.plot(x, k * x + b, 'r', label = 'Линейная экстраполяция')\n",
    "plt.legend()\n",
    "plt.show()\n",
    "\n",
    "# 2 Степень полинома\n",
    "\n",
    "# Нахождение коэф-ов ф-ии вида y = ax^2 + bx + c методом наименьших квадратов\n",
    "# задаем вектор m = [x**2, x, E]\n",
    "m = np.vstack((x ** 2, x, np.ones(len(x)))).T\n",
    "\n",
    "# находим коэф-ы при составляющих вектора m\n",
    "s = np.linalg.lstsq(m, y, rcond=None)[0]\n",
    "\n",
    "# Отрезок [0,3]\n",
    "x_prec = np.linspace(0, 3, 101)\n",
    "plt.plot(x, y, 'D')\n",
    "plt.plot(x_prec, s[0] * x_prec ** 2 + s[1] * x_prec + s[2], '-', lw = 2)\n",
    "plt.grid()\n",
    "plt.show()\n",
    "\n",
    "# 3 Степеь полинома\n",
    "\n",
    "# Нахождение коэф-ов ф-ии вида y = ax^3 + bx^2 + cx + d методом наименьших квадратов\n",
    "# задаем вектор m = [x**3, x**2, x, E]\n",
    "m = np.vstack((x ** 3, x ** 2, x, np.ones(len(x)))).T\n",
    "\n",
    "# находим коэ-фы при составляющих вектора m\n",
    "s = np.linalg.lstsq(m, y, rcond=None)[0]\n",
    "\n",
    "# Орезок [0,3]\n",
    "x_prec = np.linspace(0, 3, 101)\n",
    "plt.plot(x, y, 'D')\n",
    "plt.plot(x_prec, s[0] * x_prec ** 3 + s[1] * x_prec ** 2 + s[2] * x_prec + s[3], '-', lw=3)\n",
    "plt.grid()\n",
    "plt.show()"
   ]
  },
  {
   "cell_type": "markdown",
   "metadata": {},
   "source": [
    "# Задание 2\n",
    "\n",
    "Подставьте собственные данные и поэкспериментируйте с представленными\n",
    "функциями. Проанализируйте динамику изменения данных."
   ]
  },
  {
   "cell_type": "code",
   "execution_count": 4,
   "metadata": {},
   "outputs": [
    {
     "ename": "SyntaxError",
     "evalue": "'(' was never closed (34706444.py, line 37)",
     "output_type": "error",
     "traceback": [
      "\u001b[1;36m  Cell \u001b[1;32mIn[4], line 37\u001b[1;36m\u001b[0m\n\u001b[1;33m    plt.show(\u001b[0m\n\u001b[1;37m            ^\u001b[0m\n\u001b[1;31mSyntaxError\u001b[0m\u001b[1;31m:\u001b[0m '(' was never closed\n"
     ]
    }
   ],
   "source": [
    "# 1) f(x,b) = b_0  + b_1 exp(-b2x^2)\n",
    "# 2) f(x,b) = b_0  + b_1 x \n",
    "# 3) f(x,b) = b_0  + b_1 x + b_2 x^2 \n",
    "# 4) f(x,b) = b_0  + b_1 ln(x) \n",
    "# 5) f(x,b) = b_0   x^(b_1 )  \n",
    "\n",
    "def calculate(f, beta):\n",
    "    # зададим массив точек xi\n",
    "    xdata = np.linspace(1, 5, 50)\n",
    "\n",
    "    # создаем теоретически правильные значения точек yi (без шума)\n",
    "    y = f(xdata, *beta)\n",
    "\n",
    "    # зашумляем эти данные\n",
    "    ydata = y + 0.05 * np.random.randn(len(xdata))\n",
    "\n",
    "    # Используем ф-ю для получения решения в виде коэф-ов ф-ии f(x) для указаных xdata и ydata\n",
    "    from scipy.optimize import curve_fit\n",
    "    beta_opt, beta_cov = curve_fit(f, xdata, ydata)\n",
    "\n",
    "    # Вычислим линейное отклонение\n",
    "    lin_dev = sum(beta_cov[0])\n",
    "    print('Линейное отклонение', lin_dev)\n",
    "\n",
    "    # Вычислим квадратичное отклонение\n",
    "    residuals = ydata - f(xdata, *beta_opt)\n",
    "    fres = sum(residuals**2)\n",
    "    print('Квадратичное отклонение', fres)\n",
    "\n",
    "    fig, ax = plt.subplots()\n",
    "    ax.scatter(xdata, ydata)\n",
    "    ax.plot(xdata, y, 'r', lw=2)\n",
    "    ax.plot(xdata, f(xdata, *beta_opt), 'b', lw=2)\n",
    "    ax.set_xlim(0, 5)\n",
    "    ax.set_xlabel(r\"$x$\", fontsize=18)\n",
    "    ax.set_ylabel(r\"$f(x, \\beta)$\", fontsize=18)\n",
    "    plt.show()\n",
    "\n",
    "\n",
    "def f1(x, b0, b1, b2):\n",
    "    return b0 + b1 * np.exp(-b2 * x**2)\n",
    "\n",
    "def f2(x, b0, b1):\n",
    "    return b0 + b1 * x\n",
    "\n",
    "def f3(x, b0, b1, b2):\n",
    "    return b0 + b1 * x + b2 * x**2\n",
    "\n",
    "def f4(x, b0, b1):\n",
    "    return b0 + b1 * np.log(x)\n",
    "\n",
    "def f5(x, b0, b1):\n",
    "    return b0 + x**b1\n",
    "\n",
    "def main():\n",
    "    beta1 = (0.35, 0.44, 0.12)\n",
    "    beta2 = (0.12, 0.55)\n",
    "    beta3 = (0.25, 0.75, 0.5)\n",
    "    beta4 = (1, 2)\n",
    "    beta5 = (1, 2)\n",
    "\n",
    "    \n",
    "    calculate(f1, beta1)\n",
    "    calculate(f2, beta2)\n",
    "    calculate(f3, beta3)\n",
    "    calculate(f4, beta4)\n",
    "    calculate(f5, beta5)\n",
    "    \n",
    "\n",
    "if __name__ == \"__main__\":\n",
    "    main()"
   ]
  },
  {
   "cell_type": "markdown",
   "metadata": {},
   "source": [
    "# Задание 3\n",
    "\n",
    "Постройте модель линейной регрессии для произвольных данных из двух\n",
    "столбцов. Для примера можно взять точечную зависимость заработной платы от\n",
    "опыта работы:\n",
    "(https://raw.githubusercontent.com/AnnaShestova/salary-years-simple-linearregression/master/Salary_Data.csv).\n",
    "Найдите коэффициенты линии регрессии. Постройте прогноз."
   ]
  },
  {
   "cell_type": "code",
   "execution_count": 6,
   "metadata": {},
   "outputs": [
    {
     "name": "stdout",
     "output_type": "stream",
     "text": [
      "26780.09915062818\n",
      "[9312.57512673]\n"
     ]
    },
    {
     "data": {
      "text/html": [
       "<div>\n",
       "<style scoped>\n",
       "    .dataframe tbody tr th:only-of-type {\n",
       "        vertical-align: middle;\n",
       "    }\n",
       "\n",
       "    .dataframe tbody tr th {\n",
       "        vertical-align: top;\n",
       "    }\n",
       "\n",
       "    .dataframe thead th {\n",
       "        text-align: right;\n",
       "    }\n",
       "</style>\n",
       "<table border=\"1\" class=\"dataframe\">\n",
       "  <thead>\n",
       "    <tr style=\"text-align: right;\">\n",
       "      <th></th>\n",
       "      <th>Actual</th>\n",
       "      <th>Predicted</th>\n",
       "    </tr>\n",
       "  </thead>\n",
       "  <tbody>\n",
       "    <tr>\n",
       "      <th>0</th>\n",
       "      <td>37731.0</td>\n",
       "      <td>40748.961841</td>\n",
       "    </tr>\n",
       "    <tr>\n",
       "      <th>1</th>\n",
       "      <td>122391.0</td>\n",
       "      <td>122699.622956</td>\n",
       "    </tr>\n",
       "    <tr>\n",
       "      <th>2</th>\n",
       "      <td>57081.0</td>\n",
       "      <td>64961.657170</td>\n",
       "    </tr>\n",
       "    <tr>\n",
       "      <th>3</th>\n",
       "      <td>63218.0</td>\n",
       "      <td>63099.142145</td>\n",
       "    </tr>\n",
       "    <tr>\n",
       "      <th>4</th>\n",
       "      <td>116969.0</td>\n",
       "      <td>115249.562855</td>\n",
       "    </tr>\n",
       "    <tr>\n",
       "      <th>5</th>\n",
       "      <td>109431.0</td>\n",
       "      <td>107799.502753</td>\n",
       "    </tr>\n",
       "  </tbody>\n",
       "</table>\n",
       "</div>"
      ],
      "text/plain": [
       "     Actual      Predicted\n",
       "0   37731.0   40748.961841\n",
       "1  122391.0  122699.622956\n",
       "2   57081.0   64961.657170\n",
       "3   63218.0   63099.142145\n",
       "4  116969.0  115249.562855\n",
       "5  109431.0  107799.502753"
      ]
     },
     "execution_count": 6,
     "metadata": {},
     "output_type": "execute_result"
    }
   ],
   "source": [
    "import pandas as pd\n",
    "import numpy as np\n",
    "import matplotlib.pyplot as plt\n",
    "from sklearn.linear_model import LinearRegression\n",
    "from sklearn.model_selection import train_test_split\n",
    "\n",
    "\n",
    "df = pd.read_csv('Salary_Data.csv')\n",
    "\n",
    "x = df.iloc[:, :-1].values\n",
    "y = df.iloc[:, 1].values\n",
    "\n",
    "X_train, X_test, y_train, y_test = train_test_split(x, y, test_size=0.2, random_state=0)\n",
    "\n",
    "regressor =  LinearRegression()\n",
    "regressor.fit(X_train, y_train)\n",
    "\n",
    "print(regressor.intercept_)\n",
    "print(regressor.coef_)\n",
    "\n",
    "y_pred = regressor.predict(X_test)\n",
    "df = pd.DataFrame({\"Actual\": y_test, \"Predicted\": y_pred})\n",
    "\n",
    "df\n",
    "\n"
   ]
  },
  {
   "cell_type": "code",
   "execution_count": 8,
   "metadata": {},
   "outputs": [
    {
     "ename": "SyntaxError",
     "evalue": "incomplete input (2379074605.py, line 4)",
     "output_type": "error",
     "traceback": [
      "\u001b[1;36m  Cell \u001b[1;32mIn[8], line 4\u001b[1;36m\u001b[0m\n\u001b[1;33m    plt.show(\u001b[0m\n\u001b[1;37m             ^\u001b[0m\n\u001b[1;31mSyntaxError\u001b[0m\u001b[1;31m:\u001b[0m incomplete input\n"
     ]
    }
   ],
   "source": [
    "df.plot(kind='bar')\n",
    "plt.grid(which='major', linestyle='-', linewidth='0.5', color='green')\n",
    "plt.grid(which='minor', linestyle=':', linewidth='0.5', color='black')\n",
    "plt.show()"
   ]
  },
  {
   "cell_type": "code",
   "execution_count": 10,
   "metadata": {},
   "outputs": [
    {
     "ename": "SyntaxError",
     "evalue": "incomplete input (229403522.py, line 3)",
     "output_type": "error",
     "traceback": [
      "\u001b[1;36m  Cell \u001b[1;32mIn[10], line 3\u001b[1;36m\u001b[0m\n\u001b[1;33m    plt.show(\u001b[0m\n\u001b[1;37m             ^\u001b[0m\n\u001b[1;31mSyntaxError\u001b[0m\u001b[1;31m:\u001b[0m incomplete input\n"
     ]
    }
   ],
   "source": [
    "plt.scatter(X_test, y_test)\n",
    "plt.plot(X_test, y_pred, color = 'red')\n",
    "plt.show()"
   ]
  },
  {
   "cell_type": "markdown",
   "metadata": {},
   "source": [
    "# Задание 4\n",
    "\n",
    "Постройте модель множественной линейной регрессии для произвольных\n",
    "данных из нескольких столбцов. Для примера можно взять потребления\n",
    "газа (в миллионах галлонов) в 48 штатах США или набор данных о\n",
    "качестве красного вина (1) и (2) соответственно. Найдите коэффициенты\n",
    "множественной регрессии. Постройте прогноз."
   ]
  },
  {
   "cell_type": "code",
   "execution_count": 11,
   "metadata": {},
   "outputs": [
    {
     "name": "stdout",
     "output_type": "stream",
     "text": [
      "                      Coefficient\n",
      "fixed acidity            0.041284\n",
      "volatile acidity        -1.149528\n",
      "citric acid             -0.177927\n",
      "residual sugar           0.027870\n",
      "chlorides               -1.873407\n",
      "free sulfur dioxide      0.002684\n",
      "total sulfur dioxide    -0.002777\n",
      "density                -31.516666\n",
      "pH                      -0.254486\n",
      "sulphates                0.924040\n",
      "alcohol                  0.267797\n",
      "      Actual  Predicted\n",
      "1109       6   5.782930\n",
      "1032       5   5.036193\n",
      "1002       7   6.596989\n",
      "487        6   5.339126\n",
      "979        5   5.939529\n",
      "...      ...        ...\n",
      "794        6   6.559757\n",
      "813        4   6.017576\n",
      "1322       5   6.251291\n",
      "704        4   5.163926\n",
      "1023       6   6.367205\n",
      "\n",
      "[320 rows x 2 columns]\n",
      "Mean Squared Error: 0.3844711978201246\n"
     ]
    }
   ],
   "source": [
    "import pandas as pd\n",
    "from sklearn import metrics\n",
    "from sklearn.linear_model import LinearRegression\n",
    "from sklearn.model_selection import train_test_split\n",
    "\n",
    "\n",
    "url = 'https://raw.githubusercontent.com/aniruddhachoudhury/Red-Wine-Quality/master/winequality-red.csv'\n",
    "df = pd.read_csv(url)\n",
    "\n",
    "x = df[['fixed acidity', 'volatile acidity', 'citric acid',\n",
    "               'residual sugar', 'chlorides', 'free sulfur dioxide',\n",
    "               'total sulfur dioxide', 'density', 'pH',\n",
    "               'sulphates', 'alcohol']]\n",
    "y = df['quality']\n",
    "\n",
    "\n",
    "x_train, x_test, y_train, y_test = train_test_split(x, y, test_size = 0.2, random_state=0)\n",
    "\n",
    "regressor = LinearRegression()\n",
    "regressor.fit(x_train, y_train)\n",
    "\n",
    "coeff_df = pd.DataFrame(regressor.coef_, x.columns, columns=['Coefficient'])\n",
    "print(coeff_df)\n",
    "\n",
    "y_pred = regressor.predict(x_test)\n",
    "df = pd.DataFrame({'Actual': y_test, 'Predicted': y_pred})\n",
    "print(df)\n",
    "\n",
    "print('Mean Squared Error:', metrics.mean_squared_error(y_test, y_pred))"
   ]
  },
  {
   "cell_type": "markdown",
   "metadata": {},
   "source": [
    "# Задание 5\n",
    "\n",
    "Экспериментально получены N − значений величины Y при\n",
    "различных значениях величины X. Построить полиномы первой и второй\n",
    "степени, аппроксимирующие результаты эксперимента, с применением\n",
    "метода наименьших квадратов. Результаты выводятся в виде таблиц\n",
    "значений и графиков, полученных полиномов.\n"
   ]
  },
  {
   "cell_type": "code",
   "execution_count": 13,
   "metadata": {},
   "outputs": [
    {
     "ename": "SyntaxError",
     "evalue": "incomplete input (466389049.py, line 29)",
     "output_type": "error",
     "traceback": [
      "\u001b[1;36m  Cell \u001b[1;32mIn[13], line 29\u001b[1;36m\u001b[0m\n\u001b[1;33m    coefs_lin, coefs_quad\u001b[0m\n\u001b[1;37m                         ^\u001b[0m\n\u001b[1;31mSyntaxError\u001b[0m\u001b[1;31m:\u001b[0m incomplete input\n"
     ]
    }
   ],
   "source": [
    "import numpy as np\n",
    "import matplotlib.pyplot as plt\n",
    "from numpy.polynomial.polynomial import Polynomial\n",
    "\n",
    "# Вариант 5\n",
    "x = np.array([5.0, 5.2, 5.4, 5.6, 5.8, 6.0])\n",
    "y = np.array([2.0, 4.0, 4.0, 3.0, 3.0, 3.0])\n",
    "\n",
    "# Полином первой степени (линейный)\n",
    "coefs_lin       = np.polyfit(x, y, 1)\n",
    "polynomial_lin  = Polynomial(coefs_lin[::-1])\n",
    "\n",
    "# Полином второй степени (квадратичный)\n",
    "coefs_quad      = np.polyfit(x, y, 2)\n",
    "polynomial_quad = Polynomial(coefs_quad[::-1])\n",
    "\n",
    "plt.figure(figsize=(10, 6))\n",
    "plt.plot(x, y, 'o',                     label = 'Исходные данные')\n",
    "plt.plot(x, polynomial_lin(x),  '-',    label = 'Линейная аппроксимация')\n",
    "plt.plot(x, polynomial_quad(x), '--',   label = 'Квадратичная аппроксимация')\n",
    "\n",
    "plt.xlabel('x')\n",
    "plt.ylabel('y')\n",
    "plt.title('Аппроксимация данных полиномами')\n",
    "plt.legend()\n",
    "plt.grid(True)\n",
    "plt.show()\n",
    "\n",
    "coefs_lin, coefs_quad"
   ]
  }
 ],
 "metadata": {
  "kernelspec": {
   "display_name": "Python 3",
   "language": "python",
   "name": "python3"
  },
  "language_info": {
   "codemirror_mode": {
    "name": "ipython",
    "version": 3
   },
   "file_extension": ".py",
   "mimetype": "text/x-python",
   "name": "python",
   "nbconvert_exporter": "python",
   "pygments_lexer": "ipython3",
   "version": "3.11.9"
  }
 },
 "nbformat": 4,
 "nbformat_minor": 2
}
