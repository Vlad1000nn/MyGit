{
 "cells": [
  {
   "cell_type": "code",
   "execution_count": 1,
   "metadata": {},
   "outputs": [],
   "source": [
    "import numpy as np\n",
    "import matplotlib.pyplot as plt\n",
    "import plotly.graph_objects as go\n",
    "import plotly"
   ]
  },
  {
   "cell_type": "code",
   "execution_count": 2,
   "metadata": {},
   "outputs": [],
   "source": [
    "def f(x):\n",
    "    return np.sin(x) + np.sin(1.1 * x)\n",
    "\n",
    "    \n",
    "def uniform_nodes(a, b, N):\n",
    "    return a + (b - a) * np.arange(N) / (N - 1)\n",
    "\n",
    "def chebyshev_nodes(a, b, N):\n",
    "    return 0.5 * (a + b) + 0.5 * (b - a) * np.cos(np.pi * (2 * np.arange(N) + 1) / (2 * N))\n",
    "\n",
    "def lagrange_interpolation(x, y, x_eval):\n",
    "    n = len(x)\n",
    "    Pn = np.zeros_like(x_eval)\n",
    "    for i in range(n):\n",
    "        L = np.ones_like(x_eval)\n",
    "        for j in range(n):\n",
    "            if i != j:\n",
    "                L *= (x_eval - x[j]) / (x[i] - x[j])\n",
    "        Pn += y[i] * L\n",
    "    return Pn"
   ]
  },
  {
   "cell_type": "code",
   "execution_count": 18,
   "metadata": {},
   "outputs": [],
   "source": [
    "a, b = 0, 50\n",
    "x_eval = np.linspace(a,b,1000)\n",
    "n_values = [10,13,14] # Polynomial degree's"
   ]
  },
  {
   "cell_type": "code",
   "execution_count": null,
   "metadata": {},
   "outputs": [],
   "source": [
    "def make_plot_uniform(n_values):\n",
    "    fig = go.Figure()\n",
    "    fig2 = go.Figure() # for log10\n",
    "\n",
    "    colors = ['blue', 'green', 'red', 'yellow', 'purple']\n",
    "    curr1 = 0\n",
    "    curr2 = 1\n",
    "    fig.add_trace(go.Scatter(x=x_eval, y=f(x_eval), name=f\"Исходная функция{n_values}\",mode='lines', \n",
    "                            line=dict(color=colors[curr1], width=2)))\n",
    "    curr1 += 1\n",
    "    \n",
    "    for n in n_values:\n",
    "        N = n + 1\n",
    "\n",
    "        x_uniform = uniform_nodes(a, b, N)\n",
    "        y_uniform = f(x_uniform)\n",
    "        Pn_uniform = lagrange_interpolation(x_uniform, y_uniform, x_eval)\n",
    "        \n",
    "        fig.add_trace(go.Scatter(x=x_eval, y=Pn_uniform,name=f\"Узлы равномерной сетки(N={n})\", mode='lines', \n",
    "                                line=dict(color=colors[curr1], width=2)))\n",
    "        curr1 += 1\n",
    "\n",
    "        eps_uniform = np.abs(f(x_eval) - Pn_uniform)\n",
    "    \n",
    "        fig2.add_trace(go.Scatter(x=x_eval, y=np.log10(eps_uniform),name=f\"Логарифм ошибки(N={n})\", mode='lines', \n",
    "                                line=dict(color=colors[curr2], width=2)))\n",
    "        curr2 += 1\n",
    "\n",
    "    fig.update_layout(\n",
    "        title='Зависимость ошибки εn(x0)',\n",
    "        yaxis_title='εn(x0)',\n",
    "        xaxis_title='x')\n",
    "\n",
    "    fig2.update_layout(\n",
    "        title='Зависимость ошибки log10|εn(x0)|',\n",
    "        yaxis_title='log10|εn(x0)|',\n",
    "        xaxis_title='x')\n",
    "\n",
    "    fig.show()\n",
    "    fig2.show()"
   ]
  },
  {
   "cell_type": "code",
   "execution_count": 69,
   "metadata": {},
   "outputs": [],
   "source": [
    "def make_plot_chebyshev(n_values):\n",
    "    fig = go.Figure()\n",
    "    fig2 = go.Figure() # for log10\n",
    "\n",
    "    colors = ['blue', 'green', 'red', 'yellow', 'purple']\n",
    "    curr1 = 0\n",
    "    curr2 = 1\n",
    "    fig.add_trace(go.Scatter(x=x_eval, y=f(x_eval), name=f\"Исходная функция{n_values}\",mode='lines', \n",
    "                            line=dict(color=colors[curr1], width=2)))\n",
    "    curr1 += 1\n",
    "    \n",
    "    for n in n_values:\n",
    "        N = n + 1\n",
    "\n",
    "        x_chebyshev = chebyshev_nodes(a, b, N)\n",
    "        y_chebyshev = f(x_chebyshev)\n",
    "        Pn_chebyshev = lagrange_interpolation(x_chebyshev, y_chebyshev, x_eval)\n",
    "        \n",
    "        fig.add_trace(go.Scatter(x=x_eval, y=Pn_chebyshev,name=f\"Узлы равномерной сетки(N={n})\", mode='lines', \n",
    "                                line=dict(color=colors[curr1], width=2)))\n",
    "        curr1 += 1\n",
    "\n",
    "        eps_chebyshev = np.abs(f(x_eval) - Pn_chebyshev)\n",
    "        \n",
    "        fig2.add_trace(go.Scatter(x=x_eval, y=np.log10(eps_chebyshev),name=f\"Логарифм ошибки(N={n})\", mode='lines', \n",
    "                                line=dict(color=colors[curr2], width=2)))\n",
    "        curr2 += 1\n",
    "    \n",
    "\n",
    "    fig.update_layout(\n",
    "        title='Зависимость ошибки εn(x0)',\n",
    "        yaxis_title='εn(x0)',\n",
    "        xaxis_title='x',\n",
    "        )\n",
    "\n",
    "    fig2.update_layout(\n",
    "        title='Зависимость ошибки log10|εn(x0)|',\n",
    "        yaxis_title='log10|εn(x0)|',\n",
    "        xaxis_title='x',\n",
    "    )\n",
    "\n",
    "    fig.show()\n",
    "    fig2.show()"
   ]
  },
  {
   "cell_type": "code",
   "execution_count": 1,
   "metadata": {},
   "outputs": [
    {
     "ename": "NameError",
     "evalue": "name 'make_plot_uniform' is not defined",
     "output_type": "error",
     "traceback": [
      "\u001b[1;31m---------------------------------------------------------------------------\u001b[0m",
      "\u001b[1;31mNameError\u001b[0m                                 Traceback (most recent call last)",
      "Cell \u001b[1;32mIn[1], line 1\u001b[0m\n\u001b[1;32m----> 1\u001b[0m \u001b[43mmake_plot_uniform\u001b[49m((\u001b[38;5;241m10\u001b[39m,\u001b[38;5;241m13\u001b[39m,\u001b[38;5;241m14\u001b[39m))\n",
      "\u001b[1;31mNameError\u001b[0m: name 'make_plot_uniform' is not defined"
     ]
    }
   ],
   "source": [
    "make_plot_uniform((10,13,14))"
   ]
  },
  {
   "cell_type": "code",
   "execution_count": 2,
   "metadata": {},
   "outputs": [
    {
     "ename": "NameError",
     "evalue": "name 'make_plot_chebyshev' is not defined",
     "output_type": "error",
     "traceback": [
      "\u001b[1;31m---------------------------------------------------------------------------\u001b[0m",
      "\u001b[1;31mNameError\u001b[0m                                 Traceback (most recent call last)",
      "Cell \u001b[1;32mIn[2], line 1\u001b[0m\n\u001b[1;32m----> 1\u001b[0m \u001b[43mmake_plot_chebyshev\u001b[49m((\u001b[38;5;241m10\u001b[39m,\u001b[38;5;241m20\u001b[39m,\u001b[38;5;241m30\u001b[39m))\n",
      "\u001b[1;31mNameError\u001b[0m: name 'make_plot_chebyshev' is not defined"
     ]
    }
   ],
   "source": [
    "make_plot_chebyshev((10,20,30))"
   ]
  },
  {
   "cell_type": "code",
   "execution_count": 3,
   "metadata": {},
   "outputs": [
    {
     "ename": "NameError",
     "evalue": "name 'go' is not defined",
     "output_type": "error",
     "traceback": [
      "\u001b[1;31m---------------------------------------------------------------------------\u001b[0m",
      "\u001b[1;31mNameError\u001b[0m                                 Traceback (most recent call last)",
      "Cell \u001b[1;32mIn[3], line 2\u001b[0m\n\u001b[0;32m      1\u001b[0m \u001b[38;5;66;03m# (3) Зависимость max|EpsN| от числа узлов\u001b[39;00m\n\u001b[1;32m----> 2\u001b[0m fig \u001b[38;5;241m=\u001b[39m \u001b[43mgo\u001b[49m\u001b[38;5;241m.\u001b[39mFigure()\n\u001b[0;32m      4\u001b[0m N_values \u001b[38;5;241m=\u001b[39m \u001b[38;5;28mrange\u001b[39m(\u001b[38;5;241m5\u001b[39m, \u001b[38;5;241m101\u001b[39m)  \u001b[38;5;66;03m# Количество узлов \u001b[39;00m\n\u001b[0;32m      5\u001b[0m max_errors_uniform \u001b[38;5;241m=\u001b[39m []\n",
      "\u001b[1;31mNameError\u001b[0m: name 'go' is not defined"
     ]
    }
   ],
   "source": [
    "\n",
    "# (3) Зависимость max|EpsN| от числа узлов\n",
    "fig = go.Figure()\n",
    "\n",
    "N_values = range(5, 101)  # Количество узлов \n",
    "max_errors_uniform = []\n",
    "max_errors_chebyshev = []\n",
    "\n",
    "for N in N_values:\n",
    "    x_uniform = uniform_nodes(a, b, N)\n",
    "    y_uniform = f(x_uniform)\n",
    "\n",
    "    x_chebyshev = chebyshev_nodes(a, b, N)\n",
    "    y_chebyshev = f(x_chebyshev)\n",
    "\n",
    "    M = 1000 \n",
    "    x_dense = np.linspace(a, b, M)\n",
    "    f_dense = f(x_dense)\n",
    "\n",
    "    Pn_uniform = lagrange_interpolation(x_uniform, y_uniform, x_dense)\n",
    "    Pn_chebyshev = lagrange_interpolation(x_chebyshev, y_chebyshev, x_dense)\n",
    "\n",
    "    max_errors_uniform.append(np.max(np.abs(f_dense - Pn_uniform)))\n",
    "    max_errors_chebyshev.append(np.max(np.abs(f_dense - Pn_chebyshev)))\n",
    "\n",
    "fig.add_trace(go.Scatter(x=np.arange(5,101), y=np.log10(max_errors_uniform), name='Равномерные узлы', mode='lines',\n",
    "                            line=dict(color='blue', width=2)))\n",
    "fig.add_trace(go.Scatter(x=np.arange(5,101), y=np.log10(max_errors_chebyshev), name='Чебышевские узлы', mode='lines',\n",
    "                            line=dict(color='red', width=2)))\n",
    "\n",
    "fig.update_layout(\n",
    "    title='График зависимости максимальной абсолютной ошибки εN',\n",
    "    yaxis_title='εN',\n",
    "    xaxis_title='N',\n",
    ")\n",
    "\n",
    "fig.show()\n",
    "\n"
   ]
  }
 ],
 "metadata": {
  "kernelspec": {
   "display_name": "Python 3",
   "language": "python",
   "name": "python3"
  },
  "language_info": {
   "codemirror_mode": {
    "name": "ipython",
    "version": 3
   },
   "file_extension": ".py",
   "mimetype": "text/x-python",
   "name": "python",
   "nbconvert_exporter": "python",
   "pygments_lexer": "ipython3",
   "version": "3.11.9"
  }
 },
 "nbformat": 4,
 "nbformat_minor": 2
}
