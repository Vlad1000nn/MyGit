{
 "cells": [
  {
   "attachments": {},
   "cell_type": "markdown",
   "metadata": {},
   "source": [
    "Считываем данные, делаем выборку параметров, дамми-переменные и классификация методом опорных векторов(SVM)"
   ]
  },
  {
   "cell_type": "code",
   "execution_count": 2,
   "metadata": {},
   "outputs": [
    {
     "name": "stdout",
     "output_type": "stream",
     "text": [
      "     gender parental level of education  math score  reading score   \n",
      "0    female           bachelor's degree          72             72  \\\n",
      "1    female                some college          69             90   \n",
      "2    female             master's degree          90             95   \n",
      "3      male          associate's degree          47             57   \n",
      "4      male                some college          76             78   \n",
      "..      ...                         ...         ...            ...   \n",
      "995  female             master's degree          88             99   \n",
      "996    male                 high school          62             55   \n",
      "997  female                 high school          59             71   \n",
      "998  female                some college          68             78   \n",
      "999  female                some college          77             86   \n",
      "\n",
      "     writing score  \n",
      "0               74  \n",
      "1               88  \n",
      "2               93  \n",
      "3               44  \n",
      "4               75  \n",
      "..             ...  \n",
      "995             95  \n",
      "996             55  \n",
      "997             65  \n",
      "998             77  \n",
      "999             86  \n",
      "\n",
      "[1000 rows x 5 columns]\n"
     ]
    }
   ],
   "source": [
    "#Импорт модулей\n",
    "import pandas as pd\n",
    "import numpy as np\n",
    "from sklearn.model_selection import train_test_split, cross_val_score\n",
    "from sklearn.svm import SVC\n",
    "from sklearn.metrics import precision_score, recall_score, f1_score\n",
    "from sklearn.preprocessing import OneHotEncoder\n",
    "\n",
    "# Загрузка данных\n",
    "exam_df = pd.read_csv('StudentsPerformance.csv')\n",
    "\n",
    "#Выберем необходимые нам параметры\n",
    "exam_df = exam_df.loc[:, exam_df.columns.isin(['gender', 'parental level of education', 'writing score', 'reading score', 'math score',])]\n",
    "\n",
    "#Смотрим на наши данные\n",
    "print(exam_df)\n",
    "\n",
    "#Удаление пустых значений (если таковы имеются)\n",
    "exam_df = exam_df.dropna()\n",
    "\n",
    "# Выделение целевого признака ( writing score (выше среднего значения – класс 0, ниже или совпадает – класс 1) )\n",
    "exam_df['writing_score_above_avg'] = (exam_df['writing score'] > exam_df['writing score'].mean()).astype(int)\n",
    "\n",
    "# Удаление целевого признака\n",
    "exam_df.drop('writing score', axis=1, inplace=True)\n",
    "\n",
    "# Создание дамми-переменных с помощью one-hot-encoding\n",
    "\n",
    "#Пол (Мужчина - 1, женщина - 0)\n",
    "exam_df['gender'] = np.where(exam_df['gender'] == 'male' , 0, 1)\n",
    "\n",
    "#Уровень образования (Бакалавр - 1, Магистр - 2, Аспирант - 3, High school - 4, Колледж - 5, Some high school - 6)\n",
    "exam_df['parental level of education'] = np.where(exam_df['parental level of education'] == 'bachelor\\'s degree' , \n",
    "                                                  1, exam_df['parental level of education'])\n",
    "exam_df['parental level of education'] = np.where(exam_df['parental level of education'] == 'master\\'s degree' , \n",
    "                                                  2, exam_df['parental level of education'])\n",
    "exam_df['parental level of education'] = np.where(exam_df['parental level of education'] == 'associate\\'s degree' , \n",
    "                                                  3, exam_df['parental level of education'])\n",
    "exam_df['parental level of education'] = np.where(exam_df['parental level of education'] == 'high school' , \n",
    "                                                  4, exam_df['parental level of education'])\n",
    "exam_df['parental level of education'] = np.where(exam_df['parental level of education'] == 'some college' , \n",
    "                                                  5, exam_df['parental level of education'])\n",
    "exam_df['parental level of education'] = np.where(exam_df['parental level of education'] == 'some high school' , \n",
    "                                                  6, exam_df['parental level of education'])\n",
    "\n",
    "df_encoded = exam_df\n",
    "\n",
    "# Разделение на обучающую и тестовую выборки\n",
    "X_training, X_testing, y_training, y_testing = train_test_split(df_encoded.drop('writing_score_above_avg', axis=1),\n",
    "                                                    df_encoded['writing_score_above_avg'],\n",
    "                                                    test_size = 0.3,\n",
    "                                                    random_state = 42)\n",
    "\n",
    "# Создание и обучение модели SVM\n",
    "clf = SVC(kernel='linear', random_state=42)\n",
    "clf.fit(X_training, y_training)\n",
    "\n",
    "# Получение прогнозов на тестовой выборке\n",
    "y_pred = clf.predict(X_testing)\n",
    "\n",
    "# Оценка точности классификатора с помощью метрик precision, recall и F1\n",
    "precision = precision_score(y_testing, y_pred)\n",
    "recall = recall_score(y_testing, y_pred)\n",
    "f1 = f1_score(y_testing, y_pred)"
   ]
  },
  {
   "attachments": {},
   "cell_type": "markdown",
   "metadata": {},
   "source": [
    "Итог SVM"
   ]
  },
  {
   "cell_type": "code",
   "execution_count": 3,
   "metadata": {},
   "outputs": [
    {
     "name": "stdout",
     "output_type": "stream",
     "text": [
      "accuracy:0.9066666666666668\n",
      "f1:0.9063845372228225\n",
      "precision:0.9185974945533768\n",
      "recall:0.9\n"
     ]
    }
   ],
   "source": [
    "#Результат\n",
    "print( \"accuracy:\"+str(np.average(cross_val_score(clf, X_testing, y_testing, scoring=  'accuracy'))))\n",
    "print(       \"f1:\"+str(np.average(cross_val_score(clf, X_testing, y_testing, scoring=  'f1'))))\n",
    "print(\"precision:\"+str(np.average(cross_val_score(clf, X_testing, y_testing, scoring=  'precision'))))\n",
    "print(   \"recall:\"+str(np.average(cross_val_score(clf, X_testing, y_testing, scoring=  'recall'))))"
   ]
  },
  {
   "attachments": {},
   "cell_type": "markdown",
   "metadata": {},
   "source": [
    "Классификация с помощью классификатора типа Случайный лес(Random forest)"
   ]
  },
  {
   "cell_type": "code",
   "execution_count": 5,
   "metadata": {},
   "outputs": [
    {
     "name": "stdout",
     "output_type": "stream",
     "text": [
      "accuracy:0.8966666666666667\n",
      "f1:0.896499688318275\n",
      "precision:0.9037908029843514\n",
      "recall:0.8933333333333333\n"
     ]
    }
   ],
   "source": [
    "#Подключаем модуль\n",
    "from sklearn.ensemble import RandomForestClassifier\n",
    "\n",
    "# разделение данных на обучающую и тестовую выборки\n",
    "training_data, testing_data, training_labels, testing_labels = train_test_split(\n",
    "    df_encoded.drop(\"writing_score_above_avg\", axis=1), df_encoded[\"writing_score_above_avg\"], test_size=0.2, random_state=42)\n",
    "\n",
    "# построение классификатора\n",
    "rf = RandomForestClassifier(n_estimators=100, random_state=42)\n",
    "rf.fit(training_data, training_labels)\n",
    "\n",
    "# оценка качества классификатора на тестовой выборке\n",
    "pred_labels = rf.predict(testing_data)\n",
    "precision = precision_score(testing_labels, pred_labels)\n",
    "recall = recall_score(testing_labels, pred_labels)\n",
    "f1 = f1_score(testing_labels, pred_labels)\n",
    "\n",
    "print( \"accuracy:\"+str(np.average(cross_val_score(rf, X_testing, y_testing, scoring=  'accuracy'))))\n",
    "print(       \"f1:\"+str(np.average(cross_val_score(rf, X_testing, y_testing, scoring=  'f1'))))\n",
    "print(\"precision:\"+str(np.average(cross_val_score(rf, X_testing, y_testing, scoring=  'precision'))))\n",
    "print(   \"recall:\"+str(np.average(cross_val_score(rf, X_testing, y_testing, scoring=  'recall'))))"
   ]
  },
  {
   "attachments": {},
   "cell_type": "markdown",
   "metadata": {},
   "source": [
    "Перебираем различные гиперпараметры для Random Forest с помощью GridSearch"
   ]
  },
  {
   "cell_type": "code",
   "execution_count": 13,
   "metadata": {},
   "outputs": [
    {
     "name": "stdout",
     "output_type": "stream",
     "text": [
      "              precision    recall  f1-score   support\n",
      "\n",
      "           0       0.89      0.94      0.91       150\n",
      "           1       0.94      0.88      0.91       150\n",
      "\n",
      "    accuracy                           0.91       300\n",
      "   macro avg       0.91      0.91      0.91       300\n",
      "weighted avg       0.91      0.91      0.91       300\n",
      "\n",
      "accuracy:0.8933333333333333\n",
      "f1:0.8939327871944979\n",
      "precision:0.8978257032692516\n",
      "recall:0.8933333333333333\n"
     ]
    }
   ],
   "source": [
    "#Делаем импорт ещё пары модулей необходимых нам\n",
    "from sklearn.metrics import classification_report\n",
    "from sklearn.model_selection import GridSearchCV\n",
    "\n",
    "# определение диапазона значений для перебора\n",
    "param_grid = {\n",
    "    \"n_estimators\": [50, 100, 150, 200],\n",
    "    \"max_depth\": [None, 5, 10, 15],\n",
    "    \"min_samples_split\": [2, 5, 10],\n",
    "    \"min_samples_leaf\": [1, 2, 4],\n",
    "    \"max_features\": [\"sqrt\", \"log2\"],\n",
    "}\n",
    "\n",
    "# создание экземпляра класса GridSearchCV\n",
    "grid_search_rf = GridSearchCV(RandomForestClassifier(random_state=42), param_grid, cv=3, n_jobs=-1)\n",
    "\n",
    "# запуск GridSearchCV\n",
    "grid_search_rf.fit(training_data, training_labels)\n",
    "\n",
    "# Оцениваем качество классификации\n",
    "print(classification_report(y_testing, y_pred))\n",
    "\n",
    "print( \"accuracy:\"+str(np.average(cross_val_score(grid_search_rf, X_testing, y_testing, scoring=  'accuracy'))))\n",
    "print(       \"f1:\"+str(np.average(cross_val_score(grid_search_rf, X_testing, y_testing, scoring=  'f1'))))\n",
    "print(\"precision:\"+str(np.average(cross_val_score(grid_search_rf, X_testing, y_testing, scoring=  'precision'))))\n",
    "print(   \"recall:\"+str(np.average(cross_val_score(grid_search_rf, X_testing, y_testing, scoring=  'recall'))))"
   ]
  },
  {
   "attachments": {},
   "cell_type": "markdown",
   "metadata": {},
   "source": [
    "Лучшими гиперпараметрами оказались:"
   ]
  },
  {
   "cell_type": "code",
   "execution_count": 14,
   "metadata": {},
   "outputs": [
    {
     "name": "stdout",
     "output_type": "stream",
     "text": [
      "Best parameters: {'max_depth': 5, 'max_features': 'sqrt', 'min_samples_leaf': 2, 'min_samples_split': 2, 'n_estimators': 150}\n"
     ]
    }
   ],
   "source": [
    "print(\"Best parameters:\", grid_search_rf.best_params_)"
   ]
  },
  {
   "attachments": {},
   "cell_type": "markdown",
   "metadata": {},
   "source": [
    "Различные комбинации гиперпараметров для случайного дерева с шагом 50 и 10 в параметре n_estimators и вывод их лучших значений"
   ]
  },
  {
   "cell_type": "code",
   "execution_count": 15,
   "metadata": {},
   "outputs": [
    {
     "name": "stdout",
     "output_type": "stream",
     "text": [
      "Best n_estimators for step 50:  200\n",
      "Accuracy for step 50:  0.9\n",
      "Recall for step 50:  0.9\n",
      "F1 Score for step 50:  0.899888765294772\n",
      "Best n_estimators for step 10:  200\n",
      "Accuracy for step 10:  0.9\n",
      "Recall for step 10:  0.9\n",
      "F1 Score for step 10:  0.899888765294772\n"
     ]
    }
   ],
   "source": [
    "from sklearn.ensemble import RandomForestClassifier\n",
    "from sklearn.model_selection import GridSearchCV\n",
    "from sklearn.metrics import accuracy_score, recall_score, f1_score\n",
    "\n",
    "# Различные комбинации гиперпараметров для случайного дерева с шагом 50 в параметре n_estimators\n",
    "param_grid_50 = {\n",
    "    'n_estimators': [i for i in range(150, 301, 50)]\n",
    "}\n",
    "\n",
    "rfc_50 = RandomForestClassifier(random_state=42)\n",
    "grid_search_50 = GridSearchCV(estimator=rfc_50, param_grid=param_grid_50, cv=5)\n",
    "grid_search_50.fit(X_training, y_training)\n",
    "\n",
    "# Вывод лучших значений для шага 50 в параметре n_estimators\n",
    "print(\"Best n_estimators for step 50: \", grid_search_50.best_params_['n_estimators'])\n",
    "\n",
    "# Прогноз на основе данных тестирования с помощью случайного дерева с шагом 50 в параметре n_estimators\n",
    "rfc_50_pred = grid_search_50.predict(X_testing)\n",
    "\n",
    "# Точность, отзыв и оценку F1, используя метод случайный лес с шагом 50\n",
    "rfc_50_accuracy = accuracy_score(y_testing, rfc_50_pred)\n",
    "rfc_50_recall = recall_score(y_testing, rfc_50_pred, average='weighted')\n",
    "rfc_50_f1_score = f1_score(y_testing, rfc_50_pred, average='weighted')\n",
    "\n",
    "print(\"Accuracy for step 50: \", rfc_50_accuracy)\n",
    "print(\"Recall for step 50: \", rfc_50_recall)\n",
    "print(\"F1 Score for step 50: \", rfc_50_f1_score)\n",
    "\n",
    "# Различные комбинации гиперпараметров для случайного дерева с шагом 10 в параметре n_estimators\n",
    "param_grid_10 = {\n",
    "    'n_estimators': [i for i in range(150, 301, 10)]\n",
    "}\n",
    "\n",
    "rfc_10 = RandomForestClassifier(random_state=42)\n",
    "grid_search_10 = GridSearchCV(estimator=rfc_10, param_grid=param_grid_10, cv=5)\n",
    "grid_search_10.fit(X_training, y_training)\n",
    "\n",
    "# Вывод лучших значений для шага 10 в параметре n_estimators\n",
    "print(\"Best n_estimators for step 10: \", grid_search_10.best_params_['n_estimators'])\n",
    "\n",
    "# Прогноз на основе данных тестирования с помощью случайного дерева с шагом 10 в параметре n_estimators\n",
    "rfc_10_pred = grid_search_10.predict(X_testing)\n",
    "\n",
    "# Точность, отзыв и оценку F1, используя метод случайный лес с шагом 10\n",
    "rfc_10_accuracy = accuracy_score(y_testing, rfc_10_pred)\n",
    "rfc_10_recall = recall_score(y_testing, rfc_10_pred, average='weighted')\n",
    "rfc_10_f1_score = f1_score(y_testing, rfc_10_pred, average='weighted')\n",
    "\n",
    "print(\"Accuracy for step 10: \", rfc_10_accuracy)\n",
    "print(\"Recall for step 10: \", rfc_10_recall)\n",
    "print(\"F1 Score for step 10: \", rfc_10_f1_score)"
   ]
  },
  {
   "attachments": {},
   "cell_type": "markdown",
   "metadata": {},
   "source": [
    "В итоге классификатор типа SVM справился чуть лучше(и быстрее)"
   ]
  }
 ],
 "metadata": {
  "kernelspec": {
   "display_name": "Python 3",
   "language": "python",
   "name": "python3"
  },
  "language_info": {
   "codemirror_mode": {
    "name": "ipython",
    "version": 3
   },
   "file_extension": ".py",
   "mimetype": "text/x-python",
   "name": "python",
   "nbconvert_exporter": "python",
   "pygments_lexer": "ipython3",
   "version": "3.9.13"
  },
  "orig_nbformat": 4
 },
 "nbformat": 4,
 "nbformat_minor": 2
}
