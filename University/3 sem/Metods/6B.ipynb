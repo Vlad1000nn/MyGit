{
 "cells": [
  {
   "cell_type": "code",
   "execution_count": 2,
   "metadata": {},
   "outputs": [
    {
     "ename": "SyntaxError",
     "evalue": "incomplete input (4167267922.py, line 38)",
     "output_type": "error",
     "traceback": [
      "\u001b[1;36m  Cell \u001b[1;32mIn[2], line 38\u001b[1;36m\u001b[0m\n\u001b[1;33m    plt.show(\u001b[0m\n\u001b[1;37m             ^\u001b[0m\n\u001b[1;31mSyntaxError\u001b[0m\u001b[1;31m:\u001b[0m incomplete input\n"
     ]
    }
   ],
   "source": [
    "import matplotlib.pyplot as plt\n",
    "import numpy as np\n",
    "\n",
    "def sum_row(n, x):\n",
    "    return ((3 * np.sqrt(3) * n * (-1) ** n) * np.sin(n*x)) / (np.pi * (1/9 - n**2)) \n",
    "\n",
    "def func(x, n):\n",
    "    ans = 0\n",
    "    for i in range(1,n + 1):\n",
    "        ans += sum_row(i, x)\n",
    "    return ans\n",
    "\n",
    "def startup(x):\n",
    "    return 3 * np.sin(x/3)\n",
    "\n",
    "print('n = 2')\n",
    "\n",
    "\n",
    "x = np.linspace(-10, 10, 10000)\n",
    "y = func(x,2)\n",
    "\n",
    "x_values = np.linspace(-np.pi, np.pi, 1000)\n",
    "y_values = startup(x_values)\n",
    "\n",
    "plt.plot(x,y,color = 'blue', linewidth = 2.0)\n",
    "\n",
    "plt.plot(x_values, y_values, color='red')\n",
    "plt.plot(x_values + 2 * np.pi, y_values, color='red')\n",
    "plt.plot(x_values - 2 * np.pi, y_values, color='red')\n",
    "\n",
    "plt.axhline(0, color='black', linewidth=1.5)\n",
    "plt.axvline(0, color='black', linewidth=1.5)\n",
    "\n",
    "plt.xlabel('x')\n",
    "plt.ylabel('y')\n",
    "\n",
    "plt.grid(True)\n",
    "plt.show()\n"
   ]
  },
  {
   "cell_type": "code",
   "execution_count": 4,
   "metadata": {},
   "outputs": [
    {
     "ename": "SyntaxError",
     "evalue": "incomplete input (335279458.py, line 38)",
     "output_type": "error",
     "traceback": [
      "\u001b[1;36m  Cell \u001b[1;32mIn[4], line 38\u001b[1;36m\u001b[0m\n\u001b[1;33m    plt.show(\u001b[0m\n\u001b[1;37m             ^\u001b[0m\n\u001b[1;31mSyntaxError\u001b[0m\u001b[1;31m:\u001b[0m incomplete input\n"
     ]
    }
   ],
   "source": [
    "import matplotlib.pyplot as plt\n",
    "import numpy as np\n",
    "\n",
    "def sum_row(n, x):\n",
    "    return ((3 * np.sqrt(3) * n * (-1) ** n) * np.sin(n*x)) / (np.pi * (1/9 - n**2)) \n",
    "\n",
    "def func(x, n):\n",
    "    ans = 0\n",
    "    for i in range(1,n + 1):\n",
    "        ans += sum_row(i, x)\n",
    "    return ans\n",
    "\n",
    "def startup(x):\n",
    "    return 3 * np.sin(x/3)\n",
    "\n",
    "print('n = 3')\n",
    "\n",
    "\n",
    "x = np.linspace(-10, 10, 10000)\n",
    "y = func(x,3)\n",
    "\n",
    "x_values = np.linspace(-np.pi, np.pi, 1000)\n",
    "y_values = startup(x_values)\n",
    "\n",
    "plt.plot(x,y,color = 'blue', linewidth = 2.0)\n",
    "\n",
    "plt.plot(x_values, y_values, color='red')\n",
    "plt.plot(x_values + 2 * np.pi, y_values, color='red')\n",
    "plt.plot(x_values - 2 * np.pi, y_values, color='red')\n",
    "\n",
    "plt.axhline(0, color='black', linewidth=1.5)\n",
    "plt.axvline(0, color='black', linewidth=1.5)\n",
    "\n",
    "plt.xlabel('x')\n",
    "plt.ylabel('y')\n",
    "\n",
    "plt.grid(True)\n",
    "plt.show()\n"
   ]
  },
  {
   "cell_type": "code",
   "execution_count": 6,
   "metadata": {},
   "outputs": [
    {
     "ename": "SyntaxError",
     "evalue": "incomplete input (2602592105.py, line 38)",
     "output_type": "error",
     "traceback": [
      "\u001b[1;36m  Cell \u001b[1;32mIn[6], line 38\u001b[1;36m\u001b[0m\n\u001b[1;33m    plt.show(\u001b[0m\n\u001b[1;37m             ^\u001b[0m\n\u001b[1;31mSyntaxError\u001b[0m\u001b[1;31m:\u001b[0m incomplete input\n"
     ]
    }
   ],
   "source": [
    "import matplotlib.pyplot as plt\n",
    "import numpy as np\n",
    "\n",
    "def sum_row(n, x):\n",
    "    return ((3 * np.sqrt(3) * n * (-1) ** n) * np.sin(n*x)) / (np.pi * (1/9 - n**2)) \n",
    "\n",
    "def func(x, n):\n",
    "    ans = 0\n",
    "    for i in range(1,n + 1):\n",
    "        ans += sum_row(i, x)\n",
    "    return ans\n",
    "\n",
    "def startup(x):\n",
    "    return 3 * np.sin(x/3)\n",
    "\n",
    "print('n = 10')\n",
    "\n",
    "\n",
    "x = np.linspace(-10, 10, 10000)\n",
    "y = func(x,10)\n",
    "\n",
    "x_values = np.linspace(-np.pi, np.pi, 1000)\n",
    "y_values = startup(x_values)\n",
    "\n",
    "plt.plot(x,y,color = 'blue', linewidth = 2.0)\n",
    "\n",
    "plt.plot(x_values, y_values, color='red')\n",
    "plt.plot(x_values + 2 * np.pi, y_values, color='red')\n",
    "plt.plot(x_values - 2 * np.pi, y_values, color='red')\n",
    "\n",
    "plt.axhline(0, color='black', linewidth=1.5)\n",
    "plt.axvline(0, color='black', linewidth=1.5)\n",
    "\n",
    "plt.xlabel('x')\n",
    "plt.ylabel('y')\n",
    "\n",
    "plt.grid(True)\n",
    "plt.show()\n"
   ]
  }
 ],
 "metadata": {
  "kernelspec": {
   "display_name": "Python 3",
   "language": "python",
   "name": "python3"
  },
  "language_info": {
   "codemirror_mode": {
    "name": "ipython",
    "version": 3
   },
   "file_extension": ".py",
   "mimetype": "text/x-python",
   "name": "python",
   "nbconvert_exporter": "python",
   "pygments_lexer": "ipython3",
   "version": "3.11.9"
  }
 },
 "nbformat": 4,
 "nbformat_minor": 2
}
