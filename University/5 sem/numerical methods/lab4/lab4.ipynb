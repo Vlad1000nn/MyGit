{
 "cells": [
  {
   "cell_type": "code",
   "execution_count": 145,
   "metadata": {},
   "outputs": [],
   "source": [
    "import numpy as np\n",
    "import matplotlib.pyplot as plt\n",
    "import plotly.graph_objects as go\n",
    "import plotly"
   ]
  },
  {
   "cell_type": "code",
   "execution_count": 146,
   "metadata": {},
   "outputs": [],
   "source": [
    "def f(x):\n",
    "    return (1 - np.exp(x)) * np.cos(x)\n",
    "\n",
    "def diff_f(f, x, h):\n",
    "    return (f(x + h) - f(x - h)) / (2 * h)\n",
    "\n",
    "def second_diff_f(f, x ,h):\n",
    "    return (f(x + h) - 2 * f(x) + f(x - h)) / (h ** 2)  \n",
    "\n",
    "def fact_diff_f(x):\n",
    "    return np.exp(x) * np.sin(x) -  np.sin(x) - np.exp(x) * np.cos(x)\n",
    "\n",
    "def fact_second_diff_f(x):\n",
    "    return 2 * np.exp(x) * np.sin(x) - np.cos(x)\n",
    "\n",
    "def extrapolate(vals, h_vals):\n",
    "    hs_squared = np.array(h_vals)**2\n",
    "    coeffs = np.polyfit(hs_squared, vals, 1)\n",
    "    return coeffs[1]\n"
   ]
  },
  {
   "cell_type": "code",
   "execution_count": 147,
   "metadata": {},
   "outputs": [],
   "source": [
    "a = 0\n",
    "b = 2\n",
    "h_vals = [0.1, 0.05, 0.025, 0.01, 0.00001]"
   ]
  },
  {
   "cell_type": "code",
   "execution_count": 1,
   "metadata": {},
   "outputs": [
    {
     "ename": "NameError",
     "evalue": "name 'np' is not defined",
     "output_type": "error",
     "traceback": [
      "\u001b[1;31m---------------------------------------------------------------------------\u001b[0m",
      "\u001b[1;31mNameError\u001b[0m                                 Traceback (most recent call last)",
      "Cell \u001b[1;32mIn[1], line 1\u001b[0m\n\u001b[1;32m----> 1\u001b[0m x_val \u001b[38;5;241m=\u001b[39m \u001b[43mnp\u001b[49m\u001b[38;5;241m.\u001b[39mlinspace(a,b,\u001b[38;5;241m100\u001b[39m)\n\u001b[0;32m      2\u001b[0m y_val \u001b[38;5;241m=\u001b[39m f(x_val)\n\u001b[0;32m      4\u001b[0m d1 \u001b[38;5;241m=\u001b[39m [diff_f(f, x, h_vals[\u001b[38;5;241m0\u001b[39m])        \u001b[38;5;28;01mfor\u001b[39;00m x \u001b[38;5;129;01min\u001b[39;00m x_val]\n",
      "\u001b[1;31mNameError\u001b[0m: name 'np' is not defined"
     ]
    }
   ],
   "source": [
    "x_val = np.linspace(a,b,100)\n",
    "y_val = f(x_val)\n",
    "\n",
    "d1 = [diff_f(f, x, h_vals[0])        for x in x_val]\n",
    "d2 = [second_diff_f(f, x, h_vals[0]) for x in x_val]\n",
    "\n",
    "\n",
    "fig = go.Figure()\n",
    "fig.add_trace(go.Scatter(x=x_val, y=y_val, mode='lines', name='f(x)',\n",
    "                        line=dict(color='blue', width=2)))\n",
    "\n",
    "fig.add_trace(go.Scatter(x=x_val, y=d1, mode='lines', name='f\\'(x)',\n",
    "                        line=dict(color='red', width=2)))\n",
    "\n",
    "fig.add_trace(go.Scatter(x=x_val, y=d2, mode='lines', name='f\\'\\'(x)',\n",
    "                        line=dict(color='green', width=2)))\n",
    "\n",
    "fig.update_layout(\n",
    "        title='графики функций и их производных',\n",
    "        yaxis_title='y',\n",
    "        xaxis_title='x',\n",
    "        )\n",
    "\n",
    "fig.show()\n",
    "    "
   ]
  },
  {
   "cell_type": "code",
   "execution_count": 2,
   "metadata": {},
   "outputs": [
    {
     "ename": "NameError",
     "evalue": "name 'fact_diff_f' is not defined",
     "output_type": "error",
     "traceback": [
      "\u001b[1;31m---------------------------------------------------------------------------\u001b[0m",
      "\u001b[1;31mNameError\u001b[0m                                 Traceback (most recent call last)",
      "Cell \u001b[1;32mIn[2], line 1\u001b[0m\n\u001b[1;32m----> 1\u001b[0m fact_d1 \u001b[38;5;241m=\u001b[39m \u001b[43mfact_diff_f\u001b[49m(x_val)\n\u001b[0;32m      2\u001b[0m fact_d2 \u001b[38;5;241m=\u001b[39m fact_second_diff_f(x_val)\n\u001b[0;32m      3\u001b[0m log_max_d1 \u001b[38;5;241m=\u001b[39m []\n",
      "\u001b[1;31mNameError\u001b[0m: name 'fact_diff_f' is not defined"
     ]
    }
   ],
   "source": [
    "fact_d1 = fact_diff_f(x_val)\n",
    "fact_d2 = fact_second_diff_f(x_val)\n",
    "log_max_d1 = []\n",
    "log_max_d2 = []\n",
    "\n",
    "fig1 = go.Figure()\n",
    "fig2 = go.Figure()\n",
    "colors = ['blue', 'red', 'green', 'yellow', 'pink', 'brown']\n",
    "\n",
    "for num, h in enumerate(h_vals):\n",
    "    rez_d1 = np.array([diff_f(f, x, h) for x in x_val])\n",
    "    rez_d2 = np.array([second_diff_f(f, x, h) for x in x_val])\n",
    "    log_err_d1 = np.log10(np.fabs(rez_d1 - fact_d1))\n",
    "    log_err_d2 = np.log10(np.fabs(rez_d2 - fact_d2))\n",
    "    log_max_d1.append(np.max(log_err_d1))\n",
    "    log_max_d2.append(np.max(log_err_d2))\n",
    "    \n",
    "    fig1.add_trace(go.Scatter(x=x_val, y=log_err_d1, mode='lines', name=f'h={h_vals[num]}',\n",
    "                            line=dict(color=colors[num], width=2)))\n",
    "    \n",
    "    fig2.add_trace(go.Scatter(x=x_val, y=log_err_d2, mode='lines', name=f'h={h_vals[num]}',\n",
    "                            line=dict(color=colors[num], width=2)))\n",
    "\n",
    "fig1.update_layout(\n",
    "        title='графики логарифмов ошибок f\\'(x)',\n",
    "        yaxis_title='log10|εh|',\n",
    "        xaxis_title='x',\n",
    "        )\n",
    "\n",
    "\n",
    "fig2.update_layout(\n",
    "        title='графики логарифмов ошибок f\\'\\'(x)',\n",
    "        yaxis_title='log10|εh|',\n",
    "        xaxis_title='x',\n",
    "        )\n",
    "\n",
    "\n",
    "fig1.show()\n",
    "fig2.show()"
   ]
  },
  {
   "cell_type": "code",
   "execution_count": 3,
   "metadata": {},
   "outputs": [
    {
     "ename": "NameError",
     "evalue": "name 'go' is not defined",
     "output_type": "error",
     "traceback": [
      "\u001b[1;31m---------------------------------------------------------------------------\u001b[0m",
      "\u001b[1;31mNameError\u001b[0m                                 Traceback (most recent call last)",
      "Cell \u001b[1;32mIn[3], line 1\u001b[0m\n\u001b[1;32m----> 1\u001b[0m fig \u001b[38;5;241m=\u001b[39m \u001b[43mgo\u001b[49m\u001b[38;5;241m.\u001b[39mFigure()\n\u001b[0;32m      2\u001b[0m fig\u001b[38;5;241m.\u001b[39madd_trace(go\u001b[38;5;241m.\u001b[39mScatter(x\u001b[38;5;241m=\u001b[39mh_vals, y\u001b[38;5;241m=\u001b[39mlog_max_d1, mode\u001b[38;5;241m=\u001b[39m\u001b[38;5;124m'\u001b[39m\u001b[38;5;124mlines\u001b[39m\u001b[38;5;124m'\u001b[39m, name\u001b[38;5;241m=\u001b[39m\u001b[38;5;124m'\u001b[39m\u001b[38;5;124mf\u001b[39m\u001b[38;5;130;01m\\'\u001b[39;00m\u001b[38;5;124m(x)\u001b[39m\u001b[38;5;124m'\u001b[39m,\n\u001b[0;32m      3\u001b[0m                             line\u001b[38;5;241m=\u001b[39m\u001b[38;5;28mdict\u001b[39m(color\u001b[38;5;241m=\u001b[39m\u001b[38;5;124m'\u001b[39m\u001b[38;5;124mblue\u001b[39m\u001b[38;5;124m'\u001b[39m, width\u001b[38;5;241m=\u001b[39m\u001b[38;5;241m2\u001b[39m)))\n\u001b[0;32m      5\u001b[0m fig\u001b[38;5;241m.\u001b[39madd_trace(go\u001b[38;5;241m.\u001b[39mScatter(x\u001b[38;5;241m=\u001b[39mh_vals, y\u001b[38;5;241m=\u001b[39mlog_max_d2, mode\u001b[38;5;241m=\u001b[39m\u001b[38;5;124m'\u001b[39m\u001b[38;5;124mlines\u001b[39m\u001b[38;5;124m'\u001b[39m, name\u001b[38;5;241m=\u001b[39m\u001b[38;5;124m'\u001b[39m\u001b[38;5;124mf\u001b[39m\u001b[38;5;130;01m\\'\u001b[39;00m\u001b[38;5;130;01m\\'\u001b[39;00m\u001b[38;5;124m(x)\u001b[39m\u001b[38;5;124m'\u001b[39m,\n\u001b[0;32m      6\u001b[0m                             line\u001b[38;5;241m=\u001b[39m\u001b[38;5;28mdict\u001b[39m(color\u001b[38;5;241m=\u001b[39m\u001b[38;5;124m'\u001b[39m\u001b[38;5;124mred\u001b[39m\u001b[38;5;124m'\u001b[39m, width\u001b[38;5;241m=\u001b[39m\u001b[38;5;241m2\u001b[39m)))\n",
      "\u001b[1;31mNameError\u001b[0m: name 'go' is not defined"
     ]
    }
   ],
   "source": [
    "fig = go.Figure()\n",
    "fig.add_trace(go.Scatter(x=h_vals, y=log_max_d1, mode='lines', name='f\\'(x)',\n",
    "                            line=dict(color='blue', width=2)))\n",
    "\n",
    "fig.add_trace(go.Scatter(x=h_vals, y=log_max_d2, mode='lines', name='f\\'\\'(x)',\n",
    "                            line=dict(color='red', width=2)))\n",
    "\n",
    "\n",
    "\n",
    "fig.update_layout(\n",
    "        title='графики зависимости логарифма от шага',\n",
    "        yaxis_title='max(log10|εh|)',\n",
    "        xaxis_title='h',\n",
    "        )\n",
    "\n",
    "\n",
    "fig.show()"
   ]
  }
 ],
 "metadata": {
  "kernelspec": {
   "display_name": "Python 3",
   "language": "python",
   "name": "python3"
  },
  "language_info": {
   "codemirror_mode": {
    "name": "ipython",
    "version": 3
   },
   "file_extension": ".py",
   "mimetype": "text/x-python",
   "name": "python",
   "nbconvert_exporter": "python",
   "pygments_lexer": "ipython3",
   "version": "3.11.9"
  }
 },
 "nbformat": 4,
 "nbformat_minor": 2
}
