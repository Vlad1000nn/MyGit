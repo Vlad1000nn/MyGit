{
 "cells": [
  {
   "cell_type": "code",
   "execution_count": 1,
   "metadata": {},
   "outputs": [],
   "source": [
    "import pandas as pd\n",
    "import numpy as np\n",
    "import plotly.graph_objects as go\n",
    "import plotly"
   ]
  },
  {
   "cell_type": "code",
   "execution_count": 2,
   "metadata": {},
   "outputs": [],
   "source": [
    "# 0 n\n",
    "# x^2n+1 / 2n+1\n",
    "def arth_Maclaurin_n_member(x, n):\n",
    "    return x**(2 * n + 1) / (2 * n + 1)"
   ]
  },
  {
   "cell_type": "code",
   "execution_count": 3,
   "metadata": {},
   "outputs": [],
   "source": [
    "x0 = 0.5"
   ]
  },
  {
   "cell_type": "code",
   "execution_count": 4,
   "metadata": {},
   "outputs": [
    {
     "name": "stdout",
     "output_type": "stream",
     "text": [
      "0.5493061443340548 - wolfram\n",
      "0.5493061443340549 - numpy\n",
      "0.5493061443340544 - Maclaurin\n"
     ]
    }
   ],
   "source": [
    "print(\"0.5493061443340548 - wolfram\")\n",
    "print(np.arctanh(x0), '- numpy')\n",
    "answ = 0\n",
    "for n in range(100):\n",
    "    answ += arth_Maclaurin_n_member(x0, n)\n",
    "print(answ, '- Maclaurin')"
   ]
  },
  {
   "cell_type": "code",
   "execution_count": 1,
   "metadata": {},
   "outputs": [
    {
     "ename": "NameError",
     "evalue": "name 'np' is not defined",
     "output_type": "error",
     "traceback": [
      "\u001b[1;31m---------------------------------------------------------------------------\u001b[0m",
      "\u001b[1;31mNameError\u001b[0m                                 Traceback (most recent call last)",
      "Cell \u001b[1;32mIn[1], line 2\u001b[0m\n\u001b[0;32m      1\u001b[0m \u001b[38;5;66;03m# Прямое суммирование\u001b[39;00m\n\u001b[1;32m----> 2\u001b[0m f_x0 \u001b[38;5;241m=\u001b[39m \u001b[43mnp\u001b[49m\u001b[38;5;241m.\u001b[39marctanh(x0)\n\u001b[0;32m      3\u001b[0m S_n \u001b[38;5;241m=\u001b[39m [arth_Maclaurin_n_member(x0,\u001b[38;5;241m0\u001b[39m)]\n\u001b[0;32m      4\u001b[0m eps_n \u001b[38;5;241m=\u001b[39m [f_x0 \u001b[38;5;241m-\u001b[39m S_n[\u001b[38;5;241m0\u001b[39m]]\n",
      "\u001b[1;31mNameError\u001b[0m: name 'np' is not defined"
     ]
    }
   ],
   "source": [
    "# Прямое суммирование\n",
    "f_x0 = np.arctanh(x0)\n",
    "S_n = [arth_Maclaurin_n_member(x0,0)]\n",
    "eps_n = [f_x0 - S_n[0]]\n",
    "\n",
    "for n in range(1, 30):\n",
    "    S_n.append(S_n[-1] + arth_Maclaurin_n_member(x0, n) )\n",
    "    eps_n.append(f_x0 - S_n[-1])\n",
    "\n",
    "print(eps_n)\n",
    "\n",
    "fig = go.Figure()\n",
    "fig.add_trace(go.Scatter(y=eps_n, x=np.arange(1,30), mode='lines', line=dict(color='blue', width=2)))\n",
    "\n",
    "# Обратное суммирование\n",
    "reverse_S_n = [arth_Maclaurin_n_member(x0, 0)]\n",
    "reverse_eps_n = [f_x0 - reverse_S_n[0]]\n",
    "for n in range(1, 30):\n",
    "    curr_sum = 0\n",
    "    for i in range(n, -1, -1):\n",
    "        curr_sum += arth_Maclaurin_n_member(x0, i)\n",
    "    reverse_S_n.append(curr_sum)\n",
    "    reverse_eps_n.append(f_x0 - reverse_S_n[-1])\n",
    "\n",
    "print(reverse_eps_n)\n",
    "\n",
    "fig.add_trace(go.Scatter(y=reverse_eps_n, x=np.arange(1, 30), mode='lines', line=dict(color='red', width=1)))\n",
    "\n",
    "# Суммирование по схеме Горнера\n",
    "gorner_S_n = [arth_Maclaurin_n_member(x0,0)]\n",
    "gorner_eps_n = [f_x0 - gorner_S_n[0]]\n",
    "for n in range(1,30):\n",
    "    curr_sum = 0\n",
    "    for i in range(0, n + 1):\n",
    "        curr_sum += arth_Maclaurin_n_member(x0, i - 1) * (x0 * x0 * (2 * i - 1) / (2 * i + 1) )\n",
    "    gorner_S_n.append(curr_sum)\n",
    "    gorner_eps_n.append(f_x0 - gorner_S_n[-1])\n",
    "\n",
    "print(gorner_eps_n)\n",
    "\n",
    "fig.add_trace(go.Scatter(y=gorner_eps_n,x = np.arange(1,30), mode='lines', line=dict(color='green', width =3)))\n",
    "\n",
    "fig.update_layout(\n",
    "    title='Зависимость ошибки εn(x0)',\n",
    "    yaxis_title='εn(x0)',\n",
    "    xaxis_title='n',\n",
    "    )\n",
    "\n",
    "fig.show()"
   ]
  },
  {
   "cell_type": "code",
   "execution_count": 6,
   "metadata": {},
   "outputs": [
    {
     "data": {
      "text/plain": [
       "'eps_n.html'"
      ]
     },
     "execution_count": 6,
     "metadata": {},
     "output_type": "execute_result"
    }
   ],
   "source": [
    "plotly.offline.plot(fig, filename='eps_n.html', show_link=False)"
   ]
  },
  {
   "cell_type": "code",
   "execution_count": 2,
   "metadata": {},
   "outputs": [
    {
     "ename": "NameError",
     "evalue": "name 'np' is not defined",
     "output_type": "error",
     "traceback": [
      "\u001b[1;31m---------------------------------------------------------------------------\u001b[0m",
      "\u001b[1;31mNameError\u001b[0m                                 Traceback (most recent call last)",
      "Cell \u001b[1;32mIn[2], line 2\u001b[0m\n\u001b[0;32m      1\u001b[0m \u001b[38;5;66;03m# Разница в графиках\u001b[39;00m\n\u001b[1;32m----> 2\u001b[0m diff12 \u001b[38;5;241m=\u001b[39m \u001b[43mnp\u001b[49m\u001b[38;5;241m.\u001b[39msubtract(eps_n, reverse_eps_n)\n\u001b[0;32m      3\u001b[0m diff13 \u001b[38;5;241m=\u001b[39m np\u001b[38;5;241m.\u001b[39msubtract(eps_n, gorner_eps_n)\n\u001b[0;32m      4\u001b[0m diff23 \u001b[38;5;241m=\u001b[39m np\u001b[38;5;241m.\u001b[39msubtract(reverse_eps_n, gorner_eps_n)\n",
      "\u001b[1;31mNameError\u001b[0m: name 'np' is not defined"
     ]
    }
   ],
   "source": [
    "# Разница в графиках\n",
    "diff12 = np.subtract(eps_n, reverse_eps_n)\n",
    "diff13 = np.subtract(eps_n, gorner_eps_n)\n",
    "diff23 = np.subtract(reverse_eps_n, gorner_eps_n)\n",
    "fig = go.Figure(data=go.Bar(x=np.arange(1,30), y=diff12))\n",
    "fig2 = go.Figure(data=go.Bar(x=np.arange(1,30), y=diff13))\n",
    "fig3 = go.Figure(data=go.Bar(x=np.arange(1,30), y=diff23))\n",
    "\n",
    "fig.show()\n",
    "fig2.show()\n",
    "fig3.show()"
   ]
  },
  {
   "cell_type": "code",
   "execution_count": 1,
   "metadata": {},
   "outputs": [
    {
     "ename": "NameError",
     "evalue": "name 'np' is not defined",
     "output_type": "error",
     "traceback": [
      "\u001b[1;31m---------------------------------------------------------------------------\u001b[0m",
      "\u001b[1;31mNameError\u001b[0m                                 Traceback (most recent call last)",
      "Cell \u001b[1;32mIn[1], line 1\u001b[0m\n\u001b[1;32m----> 1\u001b[0m lg_eps_n \u001b[38;5;241m=\u001b[39m \u001b[43mnp\u001b[49m\u001b[38;5;241m.\u001b[39mlog10(np\u001b[38;5;241m.\u001b[39mfabs(eps_n))\n\u001b[0;32m      2\u001b[0m lg_reverse_eps_n \u001b[38;5;241m=\u001b[39m np\u001b[38;5;241m.\u001b[39mlog10(np\u001b[38;5;241m.\u001b[39mfabs(reverse_eps_n))\n\u001b[0;32m      3\u001b[0m lg_gorner_eps_n \u001b[38;5;241m=\u001b[39m np\u001b[38;5;241m.\u001b[39mlog10(np\u001b[38;5;241m.\u001b[39mfabs(gorner_eps_n))\n",
      "\u001b[1;31mNameError\u001b[0m: name 'np' is not defined"
     ]
    }
   ],
   "source": [
    "lg_eps_n = np.log10(np.fabs(eps_n))\n",
    "lg_reverse_eps_n = np.log10(np.fabs(reverse_eps_n))\n",
    "lg_gorner_eps_n = np.log10(np.fabs(gorner_eps_n))\n",
    "\n",
    "\n",
    "fig = go.Figure()\n",
    "fig.add_trace(go.Scatter(y=lg_eps_n, x=np.arange(1,30), mode='lines', line=dict(color='blue', width=2)))\n",
    "fig.add_trace(go.Scatter(y=lg_reverse_eps_n, x=np.arange(1,30), mode='lines', line=dict(color='red', width=1)))\n",
    "fig.add_trace(go.Scatter(y=lg_gorner_eps_n, x=np.arange(1,30), mode='lines', line=dict(color='green', width=3)))\n",
    "\n",
    "fig.update_layout(\n",
    "    title='Зависимость ошибки lg|εn(x0)|',\n",
    "    yaxis_title='lg|εn(x0)',\n",
    "    xaxis_title='n',\n",
    ")\n",
    "\n",
    "fig.show()"
   ]
  },
  {
   "cell_type": "code",
   "execution_count": 9,
   "metadata": {},
   "outputs": [
    {
     "data": {
      "text/plain": [
       "'lg_eps_n.html'"
      ]
     },
     "execution_count": 9,
     "metadata": {},
     "output_type": "execute_result"
    }
   ],
   "source": [
    "plotly.offline.plot(fig, filename='lg_eps_n.html', show_link=False)"
   ]
  }
 ],
 "metadata": {
  "kernelspec": {
   "display_name": "Python 3",
   "language": "python",
   "name": "python3"
  },
  "language_info": {
   "codemirror_mode": {
    "name": "ipython",
    "version": 3
   },
   "file_extension": ".py",
   "mimetype": "text/x-python",
   "name": "python",
   "nbconvert_exporter": "python",
   "pygments_lexer": "ipython3",
   "version": "3.11.9"
  }
 },
 "nbformat": 4,
 "nbformat_minor": 2
}
