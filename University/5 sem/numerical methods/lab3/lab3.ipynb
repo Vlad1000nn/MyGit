{
 "cells": [
  {
   "cell_type": "code",
   "execution_count": 1,
   "metadata": {},
   "outputs": [],
   "source": [
    "import numpy as np\n",
    "import plotly.graph_objects as go\n",
    "import matplotlib.pyplot as plt\n",
    "import plotly\n",
    "from scipy.integrate import quad"
   ]
  },
  {
   "cell_type": "code",
   "execution_count": 2,
   "metadata": {},
   "outputs": [],
   "source": [
    "def f(x):\n",
    "    return np.cos(np.pi * x)\n",
    "\n",
    "def simpsons_method(f, a, b, h):\n",
    "    n = int((b - a) / h)\n",
    "    if n % 2 == 1:\n",
    "        n += 1\n",
    "    x = np.linspace(a, b, n + 1)\n",
    "    y = f(x)\n",
    "    S = y[0] + y[-1] + 4 * np.sum(y[1:-1:2]) + 2 * np.sum(y[2:-2:2])\n",
    "    return (h / 3) * S\n",
    "\n",
    "def romberg_extrapolation(I_vals, h_vals):\n",
    "    h_sqr = np.array(h_vals) ** 2\n",
    "    p = np.polyfit(h_sqr, I_vals, 3)\n",
    "    I_0 = np.polyval(p, 0)\n",
    "    return I_0, p\n",
    "\n",
    "def usual_integrate():\n",
    "    I_usual, _ = quad(f, a, b)\n",
    "    return I_usual    \n"
   ]
  },
  {
   "cell_type": "code",
   "execution_count": 7,
   "metadata": {},
   "outputs": [],
   "source": [
    "a, b = 0.1, 1.1\n",
    "h_vals = [0.1, 0.05, 0.025, 0.01]"
   ]
  },
  {
   "cell_type": "code",
   "execution_count": 2,
   "metadata": {},
   "outputs": [
    {
     "ename": "NameError",
     "evalue": "name 'usual_integrate' is not defined",
     "output_type": "error",
     "traceback": [
      "\u001b[1;31m---------------------------------------------------------------------------\u001b[0m",
      "\u001b[1;31mNameError\u001b[0m                                 Traceback (most recent call last)",
      "Cell \u001b[1;32mIn[2], line 1\u001b[0m\n\u001b[1;32m----> 1\u001b[0m I_usual \u001b[38;5;241m=\u001b[39m \u001b[43musual_integrate\u001b[49m()\n\u001b[0;32m      3\u001b[0m I_vals \u001b[38;5;241m=\u001b[39m [simpsons_method(f, a, b, h) \u001b[38;5;28;01mfor\u001b[39;00m h \u001b[38;5;129;01min\u001b[39;00m h_vals]\n\u001b[0;32m      4\u001b[0m I_0, p \u001b[38;5;241m=\u001b[39m romberg_extrapolation(I_vals, h_vals)\n",
      "\u001b[1;31mNameError\u001b[0m: name 'usual_integrate' is not defined"
     ]
    }
   ],
   "source": [
    "I_usual = usual_integrate()\n",
    "\n",
    "I_vals = [simpsons_method(f, a, b, h) for h in h_vals]\n",
    "I_0, p = romberg_extrapolation(I_vals, h_vals)\n",
    "errs = [abs(I_usual - I) for I in I_vals]\n",
    "\n",
    "x_eval = np.linspace(a, b, 1000)\n",
    "fig = go.Figure()\n",
    "\n",
    "fig.add_trace(go.Scatter(x=x_eval, y=f(x_eval), name=f\"Исходная функция y=cos(pi*x)\",mode='lines', \n",
    "                        line=dict(color='blue', width=2)))\n",
    "\n",
    "\n",
    "fig.update_layout(\n",
    "        title='График функции с экстраполированием Ромберга',\n",
    "        yaxis_title='y',\n",
    "        xaxis_title='x',\n",
    "        )\n",
    "        \n",
    "fig.show()"
   ]
  },
  {
   "cell_type": "code",
   "execution_count": 43,
   "metadata": {},
   "outputs": [
    {
     "name": "stdout",
     "output_type": "stream",
     "text": [
      "h \t I(h) \t\t\t Абсолютная ошибка\n",
      "0.1 \t -0.1967371010863435 \t 1.07724696502276e-05\n",
      "0.05 \t -0.19672699595585683 \t 6.67339163540337e-07\n",
      "0.025 \t -0.19672637023347744 \t 4.161678415770531e-08\n",
      "0.01 \t -0.19672632968142562 \t 1.0647323300805311e-09\n",
      "\n",
      "I(0): -0.19672632861648776\n",
      "Точное значение интеграла: -0.19672632861669329\n"
     ]
    }
   ],
   "source": [
    "print(\"h \\t I(h) \\t\\t\\t Абсолютная ошибка\")\n",
    "for h, I, err in zip(h_vals, I_vals, errs):\n",
    "    print(f\"{h} \\t {I} \\t {err}\")\n",
    "print('\\n', f\"I(0): {I_0}\", sep='')\n",
    "print(f\"Точное значение интеграла: {I_usual}\")"
   ]
  },
  {
   "cell_type": "code",
   "execution_count": 1,
   "metadata": {},
   "outputs": [
    {
     "ename": "NameError",
     "evalue": "name 'np' is not defined",
     "output_type": "error",
     "traceback": [
      "\u001b[1;31m---------------------------------------------------------------------------\u001b[0m",
      "\u001b[1;31mNameError\u001b[0m                                 Traceback (most recent call last)",
      "Cell \u001b[1;32mIn[1], line 1\u001b[0m\n\u001b[1;32m----> 1\u001b[0m log_errs \u001b[38;5;241m=\u001b[39m \u001b[43mnp\u001b[49m\u001b[38;5;241m.\u001b[39mlog10(errs)\n\u001b[0;32m      2\u001b[0m np\u001b[38;5;241m.\u001b[39minsert(log_errs,\u001b[38;5;241m0\u001b[39m, (np\u001b[38;5;241m.\u001b[39mlog10(np\u001b[38;5;241m.\u001b[39mabs(I_0 \u001b[38;5;241m-\u001b[39m I_usual))))\n\u001b[0;32m      4\u001b[0m my_val \u001b[38;5;241m=\u001b[39m [\u001b[38;5;241m0\u001b[39m, \u001b[38;5;241m0.01\u001b[39m]\n",
      "\u001b[1;31mNameError\u001b[0m: name 'np' is not defined"
     ]
    }
   ],
   "source": [
    "log_errs = np.log10(errs)\n",
    "np.insert(log_errs,0, (np.log10(np.abs(I_0 - I_usual))))\n",
    "\n",
    "my_val = [0, 0.01]\n",
    "my_y_val = [np.log10(np.abs(I_0 - I_usual)), -8.97275956]\n",
    "\n",
    "fig = go.Figure()\n",
    "fig.add_trace(go.Scatter(x=my_val, y=my_y_val, mode='lines', \n",
    "                        line=dict(color='blue', width=2)))\n",
    "\n",
    "fig.add_trace(go.Scatter(x=h_vals, y=log_errs,mode='lines', \n",
    "                        line=dict(color='blue', width=2)))\n",
    "\n",
    "\n",
    "fig.update_layout(\n",
    "        title='Зависимость логарифма абсолютной ошибки от шага интегрирования',\n",
    "        yaxis_title='log10|εn(h)|',\n",
    "        xaxis_title='h',\n",
    "        )\n",
    "\n",
    "fig.show()"
   ]
  }
 ],
 "metadata": {
  "kernelspec": {
   "display_name": "Python 3",
   "language": "python",
   "name": "python3"
  },
  "language_info": {
   "codemirror_mode": {
    "name": "ipython",
    "version": 3
   },
   "file_extension": ".py",
   "mimetype": "text/x-python",
   "name": "python",
   "nbconvert_exporter": "python",
   "pygments_lexer": "ipython3",
   "version": "3.11.9"
  }
 },
 "nbformat": 4,
 "nbformat_minor": 2
}
