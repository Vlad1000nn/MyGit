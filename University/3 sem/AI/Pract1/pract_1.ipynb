{
 "cells": [
  {
   "cell_type": "markdown",
   "metadata": {},
   "source": [
    "# 1.3 Задание"
   ]
  },
  {
   "cell_type": "code",
   "execution_count": 1,
   "metadata": {},
   "outputs": [
    {
     "name": "stdout",
     "output_type": "stream",
     "text": [
      "True is <class 'bool'> \n",
      " {8, 1, 3, 7} is <class 'set'> \n",
      " {2, 4, 5, 'apple', 10} is <class 'set'> \n",
      " set() is <class 'set'> \n",
      " ('Антонова Антонина', 34, 'ж') is <class 'tuple'> \n",
      " type is <class 'str'> \n",
      " [1, 'tittle', 2, 'content'] is <class 'list'>\n"
     ]
    }
   ],
   "source": [
    "x = 5 >= 2\n",
    "A = {1, 3, 7, 8}\n",
    "B = {2, 4, 5, 10, 'apple'}\n",
    "C = A & B\n",
    "df = 'Антонова Антонина', 34, 'ж'\n",
    "z = 'type'\n",
    "D = [1, 'tittle' , 2, 'content']\n",
    "\n",
    "# Решение\n",
    "print(x, 'is', type(x), '\\n', A, 'is', type(A), '\\n', B, 'is', type(B), '\\n', C, 'is', type(C), '\\n', df, 'is', type(df), '\\n', z, 'is', type(z), '\\n', D, 'is', type(D))"
   ]
  },
  {
   "cell_type": "markdown",
   "metadata": {},
   "source": [
    "# 2.3 Задание"
   ]
  },
  {
   "cell_type": "code",
   "execution_count": 2,
   "metadata": {},
   "outputs": [
    {
     "name": "stdout",
     "output_type": "stream",
     "text": [
      "x = 55\n",
      "х принадлежит (5, +infinity)\n"
     ]
    }
   ],
   "source": [
    "x = int(input())\n",
    "print(\"x =\", x)\n",
    "if(x < -5):\n",
    "    print(\"х принадлежит (-infinity, -5)\")\n",
    "elif(x >= -5 and x <= 5):\n",
    "    print(\"х принадлежит [-5, 5]\")\n",
    "else:\n",
    "    print(\"х принадлежит (5, +infinity)\")"
   ]
  },
  {
   "cell_type": "markdown",
   "metadata": {},
   "source": [
    "# 3.3.1 Задание"
   ]
  },
  {
   "cell_type": "code",
   "execution_count": 3,
   "metadata": {},
   "outputs": [
    {
     "name": "stdout",
     "output_type": "stream",
     "text": [
      "10\n",
      "7\n",
      "4\n",
      "1\n"
     ]
    }
   ],
   "source": [
    "x = 10\n",
    "while x > 0:\n",
    "    print(x)\n",
    "    x-=3"
   ]
  },
  {
   "cell_type": "markdown",
   "metadata": {},
   "source": [
    "# 3.3.3 Задание"
   ]
  },
  {
   "cell_type": "code",
   "execution_count": 4,
   "metadata": {},
   "outputs": [
    {
     "name": "stdout",
     "output_type": "stream",
     "text": [
      "[2, 3, 4, 5, 6, 7, 8, 9, 10, 11, 12, 13, 14, 15]\n"
     ]
    }
   ],
   "source": [
    "numbers = list(range(2, 16))\n",
    "print(numbers)"
   ]
  },
  {
   "cell_type": "markdown",
   "metadata": {},
   "source": [
    "# 3.3.4 Задание"
   ]
  },
  {
   "cell_type": "code",
   "execution_count": 5,
   "metadata": {},
   "outputs": [
    {
     "name": "stdout",
     "output_type": "stream",
     "text": [
      "105\n",
      "80\n",
      "55\n",
      "30\n",
      "5\n"
     ]
    }
   ],
   "source": [
    "for number in range(105, 0, -25):\n",
    "    print(number)"
   ]
  },
  {
   "cell_type": "markdown",
   "metadata": {},
   "source": [
    "# 3.3.5 Задание"
   ]
  },
  {
   "cell_type": "code",
   "execution_count": 6,
   "metadata": {},
   "outputs": [
    {
     "name": "stdout",
     "output_type": "stream",
     "text": [
      "[8, 1, 6, 3, 4, 5, 2, 7, 0, 9]\n"
     ]
    }
   ],
   "source": [
    "x = list(range(0,10))\n",
    "x[::2] = x[::2][::-1]\n",
    "print(x)"
   ]
  },
  {
   "cell_type": "markdown",
   "metadata": {},
   "source": [
    "# 4.3.1 Задание"
   ]
  },
  {
   "cell_type": "code",
   "execution_count": 8,
   "metadata": {},
   "outputs": [
    {
     "ename": "SyntaxError",
     "evalue": "incomplete input (2099598447.py, line 18)",
     "output_type": "error",
     "traceback": [
      "\u001b[1;36m  Cell \u001b[1;32mIn[8], line 18\u001b[1;36m\u001b[0m\n\u001b[1;33m    plt.show(\u001b[0m\n\u001b[1;37m             ^\u001b[0m\n\u001b[1;31mSyntaxError\u001b[0m\u001b[1;31m:\u001b[0m incomplete input\n"
     ]
    }
   ],
   "source": [
    "import random\n",
    "import matplotlib.pyplot as plt\n",
    "import statistics as stat \n",
    "\n",
    "x =[]\n",
    "\n",
    "for i in range(100):\n",
    "    x.append(random.random())\n",
    "\n",
    "mean = stat.mean(x)\n",
    "med = stat.median(x)\n",
    "\n",
    "fig, ax = plt.subplots(figsize=(6,6))\n",
    "ax.scatter(range(len(x)), x)\n",
    "\n",
    "print(\"Среднее:\", mean)\n",
    "print(\"Медиана:\", med)\n",
    "plt.show()"
   ]
  },
  {
   "cell_type": "markdown",
   "metadata": {},
   "source": [
    "# 4.3.2 Задание"
   ]
  },
  {
   "cell_type": "code",
   "execution_count": 10,
   "metadata": {},
   "outputs": [
    {
     "ename": "SyntaxError",
     "evalue": "incomplete input (1405763174.py, line 18)",
     "output_type": "error",
     "traceback": [
      "\u001b[1;36m  Cell \u001b[1;32mIn[10], line 18\u001b[1;36m\u001b[0m\n\u001b[1;33m    plt.show(\u001b[0m\n\u001b[1;37m             ^\u001b[0m\n\u001b[1;31mSyntaxError\u001b[0m\u001b[1;31m:\u001b[0m incomplete input\n"
     ]
    }
   ],
   "source": [
    "import matplotlib.pyplot as plt\n",
    "import numpy as np\n",
    "\n",
    "def func(x):\n",
    "    return (np.sqrt(1 + np.exp(np.sqrt(x)) + np.cos(x**2)) / (abs(1 - np.sin(x)**3))) + np.log(abs(2*x))\n",
    "\n",
    "x = np.linspace(1, 10, 10)\n",
    "x2 = x[:len(x)//2]\n",
    "\n",
    "y = func(x)\n",
    "\n",
    "plt.plot(x,y)\n",
    "plt.show()\n",
    "\n",
    "y2 = func(x2)\n",
    "\n",
    "plt.scatter(x2, y2)\n",
    "plt.show()"
   ]
  },
  {
   "cell_type": "markdown",
   "metadata": {},
   "source": [
    "# 4.3.3 Задание"
   ]
  },
  {
   "cell_type": "code",
   "execution_count": 13,
   "metadata": {},
   "outputs": [
    {
     "ename": "SyntaxError",
     "evalue": "'(' was never closed (2123688387.py, line 11)",
     "output_type": "error",
     "traceback": [
      "\u001b[1;36m  Cell \u001b[1;32mIn[13], line 11\u001b[1;36m\u001b[0m\n\u001b[1;33m    plt.grid(\u001b[0m\n\u001b[1;37m            ^\u001b[0m\n\u001b[1;31mSyntaxError\u001b[0m\u001b[1;31m:\u001b[0m '(' was never closed\n"
     ]
    }
   ],
   "source": [
    "import numpy as np\n",
    "from scipy.integrate import simpson\n",
    "from numpy import trapz\n",
    "\n",
    "def func(x):\n",
    "    return np.abs(np.cos(x * np.exp((np.cos(x) + np.log(x + 1)))))\n",
    "\n",
    "x = np.arange(0.0, 10, 1)\n",
    "y = func(x)\n",
    "\n",
    "plt.grid()\n",
    "plt.plot(x, y, c = \"red\")\n",
    "plt.fill_between(x, y)\n",
    "\n",
    "area = trapz(y)\n",
    "print(\"Площадь:\", area)"
   ]
  },
  {
   "cell_type": "markdown",
   "metadata": {},
   "source": [
    "# 4.3.4 Задание"
   ]
  },
  {
   "cell_type": "code",
   "execution_count": 15,
   "metadata": {},
   "outputs": [
    {
     "ename": "SyntaxError",
     "evalue": "incomplete input (2194534107.py, line 29)",
     "output_type": "error",
     "traceback": [
      "\u001b[1;36m  Cell \u001b[1;32mIn[15], line 29\u001b[1;36m\u001b[0m\n\u001b[1;33m    plt.show(\u001b[0m\n\u001b[1;37m             ^\u001b[0m\n\u001b[1;31mSyntaxError\u001b[0m\u001b[1;31m:\u001b[0m incomplete input\n"
     ]
    }
   ],
   "source": [
    "import pandas as pd\n",
    "import matplotlib.pyplot as plt\n",
    "\n",
    "apple_data      = pd.read_csv('AAPL.csv', parse_dates=['Date'])\n",
    "microsoft_data  = pd.read_csv('MSFT.csv', parse_dates=['Date'])\n",
    "google_data     = pd.read_csv('GOOG.csv', parse_dates=['Date'])\n",
    "\n",
    "apple_data.set_index('Date', inplace=True)\n",
    "apple_monthly_data = apple_data.resample('M').mean()\n",
    "\n",
    "microsoft_data.set_index('Date', inplace=True)\n",
    "microsoft_monthly_data = microsoft_data.resample('M').mean()\n",
    "\n",
    "google_data.set_index('Date', inplace=True)\n",
    "google_monthly_data = google_data.resample('M').mean()\n",
    "\n",
    "\n",
    "plt.figure(figsize=(10, 6)) \n",
    "plt.plot(apple_monthly_data.index,      apple_monthly_data['Close'],        label='Apple')\n",
    "plt.plot(microsoft_monthly_data.index,  microsoft_monthly_data['Close'],    label='Microsoft')\n",
    "plt.plot(google_monthly_data.index,     google_monthly_data['Close'],       label='Google')\n",
    "\n",
    "plt.xticks(rotation=45) \n",
    "plt.xlabel('Месяц')\n",
    "plt.ylabel('Средняя стоимость акций($)')\n",
    "plt.title('Динамика средней стоимости акций по месяцам')\n",
    "plt.legend()\n",
    "\n",
    "plt.show()"
   ]
  },
  {
   "cell_type": "markdown",
   "metadata": {},
   "source": [
    "# 4.3.5 Задание"
   ]
  },
  {
   "cell_type": "code",
   "execution_count": 16,
   "metadata": {},
   "outputs": [
    {
     "name": "stdout",
     "output_type": "stream",
     "text": [
      "56.0 66 55.0 = None\n"
     ]
    }
   ],
   "source": [
    "import math\n",
    "\n",
    "def calculator(x, y, operator):\n",
    "    if operator == '+':\n",
    "        return x + y\n",
    "    elif operator == '-':\n",
    "        return  x - y\n",
    "    elif operator == '*':\n",
    "        return  x * y\n",
    "    elif operator == '/':\n",
    "        return  x / y\n",
    "    elif operator == 'exp':\n",
    "        return  math.exp(x + y)\n",
    "    elif operator == 'sin':\n",
    "        return  math.sin(x + y)\n",
    "    elif operator == 'cos':\n",
    "        return  math.cos(x + y)\n",
    "    elif operator == '^':\n",
    "        return x ** y\n",
    "    else:\n",
    "        return None\n",
    "\n",
    "    return result\n",
    "\n",
    "# Пример использования калькулятора\n",
    "x = float(input())\n",
    "y = float(input())\n",
    "operator = input()\n",
    "\n",
    "result = calculator(x, y, operator)\n",
    "print(x, operator, y, \"=\",result)"
   ]
  }
 ],
 "metadata": {
  "kernelspec": {
   "display_name": "Python 3",
   "language": "python",
   "name": "python3"
  },
  "language_info": {
   "codemirror_mode": {
    "name": "ipython",
    "version": 3
   },
   "file_extension": ".py",
   "mimetype": "text/x-python",
   "name": "python",
   "nbconvert_exporter": "python",
   "pygments_lexer": "ipython3",
   "version": "3.11.9"
  },
  "orig_nbformat": 4
 },
 "nbformat": 4,
 "nbformat_minor": 2
}
