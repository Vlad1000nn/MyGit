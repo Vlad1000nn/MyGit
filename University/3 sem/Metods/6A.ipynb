{
 "cells": [
  {
   "cell_type": "code",
   "execution_count": 1,
   "metadata": {},
   "outputs": [
    {
     "ename": "SyntaxError",
     "evalue": "incomplete input (2591177070.py, line 35)",
     "output_type": "error",
     "traceback": [
      "\u001b[1;36m  Cell \u001b[1;32mIn[1], line 35\u001b[1;36m\u001b[0m\n\u001b[1;33m    plt.show(\u001b[0m\n\u001b[1;37m             ^\u001b[0m\n\u001b[1;31mSyntaxError\u001b[0m\u001b[1;31m:\u001b[0m incomplete input\n"
     ]
    }
   ],
   "source": [
    "import matplotlib.pyplot as plt\n",
    "import numpy as np\n",
    "\n",
    "def sum_row(n, x):\n",
    "    return ((2 - (-1) ** n) * np.cos(n * x) )/ (np.pi * (1 / 9 - n**2))\n",
    "\n",
    "def func(x, n):\n",
    "    ans = 9 / (2 * np.pi)\n",
    "    for i in range(1,n + 1):\n",
    "        ans += sum_row(i, x)\n",
    "    return ans\n",
    "\n",
    "def startup(x):\n",
    "    return abs(3 * np.sin(x / 3))\n",
    "\n",
    "x = np.linspace(-10, 10, 10000)\n",
    "y = func(x,2)\n",
    "\n",
    "x1 = np.linspace(-10,10,10000)\n",
    "y1 = startup(np.mod(x1 + np.pi, 2 * np.pi) - np.pi)\n",
    "\n",
    "print('n = 2')\n",
    "\n",
    "fig, ax = plt.subplots()\n",
    "ax.grid(True, linestyle='--', linewidth=0.5)\n",
    "\n",
    "ax.axhline(0, color='black', linewidth=1.0)\n",
    "ax.axvline(0, color='black', linewidth=1.0)\n",
    "\n",
    "ax.set_xlabel('X Axis')\n",
    "ax.set_ylabel('Y Axis')\n",
    "\n",
    "plt.plot(x,y, linewidth = 2.0)\n",
    "plt.plot(x1,y1,color = 'red')\n",
    "plt.show()"
   ]
  },
  {
   "cell_type": "code",
   "execution_count": 2,
   "metadata": {},
   "outputs": [
    {
     "ename": "SyntaxError",
     "evalue": "incomplete input (188983537.py, line 20)",
     "output_type": "error",
     "traceback": [
      "\u001b[1;36m  Cell \u001b[1;32mIn[2], line 20\u001b[1;36m\u001b[0m\n\u001b[1;33m    plt.show(\u001b[0m\n\u001b[1;37m             ^\u001b[0m\n\u001b[1;31mSyntaxError\u001b[0m\u001b[1;31m:\u001b[0m incomplete input\n"
     ]
    }
   ],
   "source": [
    "x = np.linspace(-10, 10, 10000)\n",
    "y = func(x,3)\n",
    "\n",
    "x1 = np.linspace(-10,10,10000)\n",
    "y1 = startup(np.mod(x1 + np.pi, 2 * np.pi) - np.pi)\n",
    "\n",
    "print('n = 3')\n",
    "\n",
    "fig, ax = plt.subplots()\n",
    "ax.grid(True, linestyle='--', linewidth=0.5)\n",
    "\n",
    "ax.axhline(0, color='black', linewidth=1.0)\n",
    "ax.axvline(0, color='black', linewidth=1.0)\n",
    "\n",
    "ax.set_xlabel('X Axis')\n",
    "ax.set_ylabel('Y Axis')\n",
    "\n",
    "plt.plot(x,y, linewidth = 2.0)\n",
    "plt.plot(x1,y1,color = 'red')\n",
    "plt.show()"
   ]
  },
  {
   "cell_type": "code",
   "execution_count": 3,
   "metadata": {},
   "outputs": [
    {
     "ename": "SyntaxError",
     "evalue": "incomplete input (3837476818.py, line 20)",
     "output_type": "error",
     "traceback": [
      "\u001b[1;36m  Cell \u001b[1;32mIn[3], line 20\u001b[1;36m\u001b[0m\n\u001b[1;33m    plt.show(\u001b[0m\n\u001b[1;37m             ^\u001b[0m\n\u001b[1;31mSyntaxError\u001b[0m\u001b[1;31m:\u001b[0m incomplete input\n"
     ]
    }
   ],
   "source": [
    "x = np.linspace(-10, 10, 10000)\n",
    "y = func(x,10)\n",
    "\n",
    "x1 = np.linspace(-10,10,10000)\n",
    "y1 = startup(np.mod(x1 + np.pi, 2 * np.pi) - np.pi)\n",
    "\n",
    "print('n = 10')\n",
    "\n",
    "fig, ax = plt.subplots()\n",
    "ax.grid(True, linestyle='--', linewidth=0.5)\n",
    "\n",
    "ax.axhline(0, color='black', linewidth=1.0)\n",
    "ax.axvline(0, color='black', linewidth=1.0)\n",
    "\n",
    "ax.set_xlabel('X Axis')\n",
    "ax.set_ylabel('Y Axis')\n",
    "\n",
    "plt.plot(x,y, linewidth = 2.0)\n",
    "plt.plot(x1,y1,color = 'red')\n",
    "plt.show()"
   ]
  }
 ],
 "metadata": {
  "kernelspec": {
   "display_name": "Python 3",
   "language": "python",
   "name": "python3"
  },
  "language_info": {
   "codemirror_mode": {
    "name": "ipython",
    "version": 3
   },
   "file_extension": ".py",
   "mimetype": "text/x-python",
   "name": "python",
   "nbconvert_exporter": "python",
   "pygments_lexer": "ipython3",
   "version": "3.11.9"
  }
 },
 "nbformat": 4,
 "nbformat_minor": 2
}
